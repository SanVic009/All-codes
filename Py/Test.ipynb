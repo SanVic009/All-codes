{
 "cells": [
  {
   "cell_type": "code",
   "execution_count": 7,
   "metadata": {},
   "outputs": [],
   "source": [
    "import pyperclip as pp\n",
    "\n",
    "# pp.paste()\n",
    "\n",
    "pp.copy('sanchit.sovale@mitwpu.edu.in')\n",
    "\n"
   ]
  },
  {
   "cell_type": "code",
   "execution_count": 9,
   "metadata": {},
   "outputs": [
    {
     "name": "stdout",
     "output_type": "stream",
     "text": [
      "17.0\n",
      "6.8\n"
     ]
    },
    {
     "ename": "ZeroDivisionError",
     "evalue": "division by zero",
     "output_type": "error",
     "traceback": [
      "\u001b[1;31m---------------------------------------------------------------------------\u001b[0m",
      "\u001b[1;31mZeroDivisionError\u001b[0m                         Traceback (most recent call last)",
      "Cell \u001b[1;32mIn[9], line 6\u001b[0m\n\u001b[0;32m      4\u001b[0m \u001b[38;5;28mprint\u001b[39m(divide_by(\u001b[38;5;241m2\u001b[39m))\n\u001b[0;32m      5\u001b[0m \u001b[38;5;28mprint\u001b[39m(divide_by(\u001b[38;5;241m5\u001b[39m))\n\u001b[1;32m----> 6\u001b[0m \u001b[38;5;28mprint\u001b[39m(\u001b[43mdivide_by\u001b[49m\u001b[43m(\u001b[49m\u001b[38;5;241;43m0\u001b[39;49m\u001b[43m)\u001b[49m)\n",
      "Cell \u001b[1;32mIn[9], line 2\u001b[0m, in \u001b[0;36mdivide_by\u001b[1;34m(val)\u001b[0m\n\u001b[0;32m      1\u001b[0m \u001b[38;5;28;01mdef\u001b[39;00m \u001b[38;5;21mdivide_by\u001b[39m( val):\n\u001b[1;32m----> 2\u001b[0m     \u001b[38;5;28;01mreturn\u001b[39;00m \u001b[38;5;241;43m34\u001b[39;49m\u001b[38;5;241;43m/\u001b[39;49m\u001b[43mval\u001b[49m\n",
      "\u001b[1;31mZeroDivisionError\u001b[0m: division by zero"
     ]
    }
   ],
   "source": [
    "def divide_by( val):\n",
    "    return 34/val\n",
    "\n",
    "print(divide_by(2))\n",
    "print(divide_by(5))\n",
    "print(divide_by(0))"
   ]
  },
  {
   "cell_type": "code",
   "execution_count": 10,
   "metadata": {},
   "outputs": [
    {
     "name": "stdout",
     "output_type": "stream",
     "text": [
      "17.0\n",
      "6.8\n",
      "You cannot divide by 0\n",
      "None\n"
     ]
    }
   ],
   "source": [
    "def divide_by( val):\n",
    "    try:\n",
    "        return 34/val\n",
    "    except:\n",
    "        print(\"You cannot divide by 0\")\n",
    "\n",
    "print(divide_by(2))\n",
    "print(divide_by(5))\n",
    "print(divide_by(0))"
   ]
  },
  {
   "cell_type": "code",
   "execution_count": 13,
   "metadata": {},
   "outputs": [
    {
     "name": "stdout",
     "output_type": "stream",
     "text": [
      "How many dogs would like?\n",
      "1\n",
      "MMMhmmm Ohhkaayy\n"
     ]
    }
   ],
   "source": [
    "print(\"How many dogs would like?\")\n",
    "num_dogs= input()\n",
    "print(num_dogs)\n",
    "if int(num_dogs) >3 :\n",
    "    print(\"That is a very good choice\")\n",
    "else:\n",
    "    print(\"MMMhmmm Ohhkaayy\")\n"
   ]
  },
  {
   "cell_type": "code",
   "execution_count": 15,
   "metadata": {},
   "outputs": [
    {
     "name": "stdout",
     "output_type": "stream",
     "text": [
      "How many dogs would like?\n",
      "-1\n",
      "You have not entered a valid number.\n"
     ]
    }
   ],
   "source": [
    "print(\"How many dogs would like?\")\n",
    "num_dogs = input()\n",
    "print(num_dogs)\n",
    "try:\n",
    "    if int(num_dogs) < 0:\n",
    "        raise Exception()\n",
    "    elif int(num_dogs) > 3:\n",
    "        print(\"That is a very good choice\")\n",
    "    else:\n",
    "        print(\"MMMhmmm Ohhkaayy\")\n",
    "except:\n",
    "    print(\"You have not entered a valid number.\")"
   ]
  },
  {
   "cell_type": "code",
   "execution_count": 3,
   "metadata": {},
   "outputs": [
    {
     "name": "stdout",
     "output_type": "stream",
     "text": [
      "Welcome to \"Guess The Number\" game\n",
      "Enter your name here: \n",
      "11\n",
      "Lets begin.\n",
      "The rules are simple. You guess one number between 1 and 20 and so will I.\n",
      "If you guess the same number as me, you will score a point or else I will.\n",
      "You will get exactly 5 guesses.\n",
      "\n",
      "Enter you guess: \n",
      "1\n",
      "test guessed 1\n",
      "Sorry, that was not the number I guessed!\n",
      "You have 2 guesses left.\n",
      "Enter you guess: \n",
      "11\n",
      "test guessed 11\n",
      "My guess was 11\n",
      "YOU WON\n",
      "Congrats!! that was the correct guess!\n"
     ]
    }
   ],
   "source": [
    "import random as rn\n",
    "\n",
    "print('Welcome to \"Guess The Number\" game')\n",
    "print(\"Enter your name here: \")\n",
    "name = input()\n",
    "\n",
    "guesses = 3\n",
    "comp_score = 0\n",
    "comp_guess = rn.randint(1, 20)\n",
    "# print(comp_guess)\n",
    "\n",
    "print(\"Lets begin.\")\n",
    "print(\"The rules are simple. You guess one number between 1 and 20 and so will I.\")\n",
    "print(\"If you guess the same number as me, you will score a point or else I will.\")\n",
    "print(\"You will get exactly 5 guesses.\")\n",
    "print()\n",
    "\n",
    "while comp_score < guesses:\n",
    "    print(\"Enter you guess: \")\n",
    "    player_guess = input()\n",
    "    print(player_guess)\n",
    "\n",
    "    # print(f\"Computer guessed {comp_guess}\")\n",
    "    try:\n",
    "        if int(player_guess) < 1:\n",
    "            raise Exception()\n",
    "        elif int(player_guess) == comp_guess:\n",
    "            print(f\"My guess was {comp_guess}\")\n",
    "            print(\"Congrats!! that was the correct guess!\")\n",
    "            print(\"YOU WON\")\n",
    "            break\n",
    "        else:\n",
    "            print(\"Sorry, that was not the number I guessed!\")\n",
    "            comp_score = comp_score + 1\n",
    "            print(f\"You have {guesses-comp_score} guesses left.\")\n",
    "    except:\n",
    "        print(\"Enter a valid number.\")\n",
    "    if guesses - comp_score == 0:\n",
    "        print(\"Looks like you could not guess it!\")\n",
    "        print(f\"My guess was {comp_guess}\")"
   ]
  },
  {
   "cell_type": "code",
   "execution_count": 17,
   "metadata": {},
   "outputs": [
    {
     "name": "stdout",
     "output_type": "stream",
     "text": [
      "{' ': 13,\n",
      " ',': 1,\n",
      " '.': 1,\n",
      " 'a': 5,\n",
      " 'b': 1,\n",
      " 'c': 3,\n",
      " 'd': 3,\n",
      " 'e': 5,\n",
      " 'g': 2,\n",
      " 'h': 3,\n",
      " 'i': 7,\n",
      " 'k': 2,\n",
      " 'l': 3,\n",
      " 'n': 4,\n",
      " 'o': 2,\n",
      " 'p': 1,\n",
      " 'r': 5,\n",
      " 's': 3,\n",
      " 't': 6,\n",
      " 'w': 2,\n",
      " 'y': 1}\n"
     ]
    }
   ],
   "source": [
    "import pprint as pp\n",
    "\n",
    "message = 'It was a bright cold day in April, and the clocks were striking thirteen.'\n",
    "\n",
    "count = { }\n",
    "\n",
    "for character in message.lower():\n",
    "    count.setdefault(character, 0)\n",
    "    count[character] = count[character] + 1\n",
    "    \n",
    "dic = dict(sorted(count.items()))\n",
    "\n",
    "pp.pprint(count)"
   ]
  },
  {
   "cell_type": "code",
   "execution_count": 36,
   "metadata": {},
   "outputs": [
    {
     "data": {
      "text/plain": [
       "'c:\\\\Users\\\\Sanch\\\\OneDrive\\\\Sanchit\\\\All codes'"
      ]
     },
     "execution_count": 36,
     "metadata": {},
     "output_type": "execute_result"
    }
   ],
   "source": [
    "import os\n",
    "\n",
    "os.getcwd()\n",
    "os.path.abspath('..\\\\')\n",
    "# os.path.abspath('..\\\\..\\\\..\\\\..\\\\sample.png')\n",
    "\n",
    "# os.listdir('c:\\\\Users\\\\Sanch\\\\OneDrive\\\\Sanchit')"
   ]
  },
  {
   "cell_type": "code",
   "execution_count": 34,
   "metadata": {},
   "outputs": [
    {
     "data": {
      "text/plain": [
       "True"
      ]
     },
     "execution_count": 34,
     "metadata": {},
     "output_type": "execute_result"
    }
   ],
   "source": [
    "import webbrowser\n",
    "\n",
    "webbrowser.open('https://automatetheboringstuff.com')"
   ]
  },
  {
   "cell_type": "code",
   "execution_count": null,
   "metadata": {},
   "outputs": [],
   "source": [
    "import webbrowser, sys, pyperclip as pp\n",
    "\n",
    "sys.argv\n",
    "\n",
    "if len(sys.argv) > 1:\n",
    "    address = ' '.join(sys.argv[1:])\n",
    "else:\n",
    "    address = pp.paste()"
   ]
  },
  {
   "cell_type": "code",
   "execution_count": 47,
   "metadata": {},
   "outputs": [
    {
     "data": {
      "text/plain": [
       "True"
      ]
     },
     "execution_count": 47,
     "metadata": {},
     "output_type": "execute_result"
    }
   ],
   "source": [
    "import webbrowser\n",
    "\n",
    "url = 'https://www.google.com/maps'\n",
    "\n",
    "webbrowser.open(url)"
   ]
  },
  {
   "cell_type": "code",
   "execution_count": 38,
   "metadata": {},
   "outputs": [
    {
     "data": {
      "text/plain": [
       "178978"
      ]
     },
     "execution_count": 38,
     "metadata": {},
     "output_type": "execute_result"
    }
   ],
   "source": [
    "import requests\n",
    "\n",
    "res = requests.get('https://automatetheboringstuff.com/files/rj.txt')\n",
    "# res.status_code\n",
    "\n",
    "len(res.text)"
   ]
  },
  {
   "cell_type": "code",
   "execution_count": 39,
   "metadata": {},
   "outputs": [],
   "source": [
    "res.raise_for_status()"
   ]
  },
  {
   "cell_type": "code",
   "execution_count": 41,
   "metadata": {},
   "outputs": [],
   "source": [
    "playfile = open ('RomeoAndJuliet.txt', 'wb')\n",
    "for chunk in res.iter_content(1000):\n",
    "    playfile.write(chunk)\n",
    "    \n",
    "playfile.close()"
   ]
  },
  {
   "cell_type": "code",
   "execution_count": 45,
   "metadata": {},
   "outputs": [
    {
     "ename": "HTTPError",
     "evalue": "500 Server Error: Internal Server Error for url: https://www.amazon.in/Automate-Boring-Python-Albert-Sweigart/dp/1593275994",
     "output_type": "error",
     "traceback": [
      "\u001b[1;31m---------------------------------------------------------------------------\u001b[0m",
      "\u001b[1;31mHTTPError\u001b[0m                                 Traceback (most recent call last)",
      "Cell \u001b[1;32mIn[45], line 4\u001b[0m\n\u001b[0;32m      1\u001b[0m \u001b[38;5;28;01mimport\u001b[39;00m \u001b[38;5;21;01mbs4\u001b[39;00m \u001b[38;5;28;01mas\u001b[39;00m \u001b[38;5;21;01mbs\u001b[39;00m\u001b[38;5;241m,\u001b[39m \u001b[38;5;21;01mrequests\u001b[39;00m\n\u001b[0;32m      3\u001b[0m res \u001b[38;5;241m=\u001b[39m requests\u001b[38;5;241m.\u001b[39mget(\u001b[38;5;124m'\u001b[39m\u001b[38;5;124mhttps://www.amazon.in/Automate-Boring-Python-Albert-Sweigart/dp/1593275994\u001b[39m\u001b[38;5;124m'\u001b[39m)\n\u001b[1;32m----> 4\u001b[0m \u001b[43mres\u001b[49m\u001b[38;5;241;43m.\u001b[39;49m\u001b[43mraise_for_status\u001b[49m\u001b[43m(\u001b[49m\u001b[43m)\u001b[49m\n",
      "File \u001b[1;32mc:\\Users\\Sanch\\AppData\\Local\\Programs\\Python\\Python312\\Lib\\site-packages\\requests\\models.py:1024\u001b[0m, in \u001b[0;36mResponse.raise_for_status\u001b[1;34m(self)\u001b[0m\n\u001b[0;32m   1019\u001b[0m     http_error_msg \u001b[38;5;241m=\u001b[39m (\n\u001b[0;32m   1020\u001b[0m         \u001b[38;5;124mf\u001b[39m\u001b[38;5;124m\"\u001b[39m\u001b[38;5;132;01m{\u001b[39;00m\u001b[38;5;28mself\u001b[39m\u001b[38;5;241m.\u001b[39mstatus_code\u001b[38;5;132;01m}\u001b[39;00m\u001b[38;5;124m Server Error: \u001b[39m\u001b[38;5;132;01m{\u001b[39;00mreason\u001b[38;5;132;01m}\u001b[39;00m\u001b[38;5;124m for url: \u001b[39m\u001b[38;5;132;01m{\u001b[39;00m\u001b[38;5;28mself\u001b[39m\u001b[38;5;241m.\u001b[39murl\u001b[38;5;132;01m}\u001b[39;00m\u001b[38;5;124m\"\u001b[39m\n\u001b[0;32m   1021\u001b[0m     )\n\u001b[0;32m   1023\u001b[0m \u001b[38;5;28;01mif\u001b[39;00m http_error_msg:\n\u001b[1;32m-> 1024\u001b[0m     \u001b[38;5;28;01mraise\u001b[39;00m HTTPError(http_error_msg, response\u001b[38;5;241m=\u001b[39m\u001b[38;5;28mself\u001b[39m)\n",
      "\u001b[1;31mHTTPError\u001b[0m: 500 Server Error: Internal Server Error for url: https://www.amazon.in/Automate-Boring-Python-Albert-Sweigart/dp/1593275994"
     ]
    }
   ],
   "source": [
    "import bs4 as bs, requests\n",
    "\n",
    "res = requests.get('https://www.amazon.in/Automate-Boring-Python-Albert-Sweigart/dp/1593275994')\n",
    "res.raise_for_status()"
   ]
  },
  {
   "cell_type": "code",
   "execution_count": null,
   "metadata": {},
   "outputs": [],
   "source": [
    "# soup =\n",
    "import selenium"
   ]
  }
 ],
 "metadata": {
  "kernelspec": {
   "display_name": "Python 3",
   "language": "python",
   "name": "python3"
  },
  "language_info": {
   "codemirror_mode": {
    "name": "ipython",
    "version": 3
   },
   "file_extension": ".py",
   "mimetype": "text/x-python",
   "name": "python",
   "nbconvert_exporter": "python",
   "pygments_lexer": "ipython3",
   "version": "3.12.3"
  }
 },
 "nbformat": 4,
 "nbformat_minor": 2
}
