{
 "cells": [
  {
   "cell_type": "code",
   "execution_count": 2,
   "id": "1ddbc7d3",
   "metadata": {},
   "outputs": [],
   "source": [
    "import pandas as pd\n",
    "import seaborn as sns\n",
    "import matplotlib.pyplot as plt"
   ]
  },
  {
   "cell_type": "code",
   "execution_count": 34,
   "id": "00ef0b20",
   "metadata": {},
   "outputs": [
    {
     "name": "stdout",
     "output_type": "stream",
     "text": [
      "(34226, 11)\n"
     ]
    },
    {
     "data": {
      "text/html": [
       "<div>\n",
       "<style scoped>\n",
       "    .dataframe tbody tr th:only-of-type {\n",
       "        vertical-align: middle;\n",
       "    }\n",
       "\n",
       "    .dataframe tbody tr th {\n",
       "        vertical-align: top;\n",
       "    }\n",
       "\n",
       "    .dataframe thead th {\n",
       "        text-align: right;\n",
       "    }\n",
       "</style>\n",
       "<table border=\"1\" class=\"dataframe\">\n",
       "  <thead>\n",
       "    <tr style=\"text-align: right;\">\n",
       "      <th></th>\n",
       "      <th>month</th>\n",
       "      <th>trip_id</th>\n",
       "      <th>region_id</th>\n",
       "      <th>vehicle_id</th>\n",
       "      <th>started_at</th>\n",
       "      <th>ended_at</th>\n",
       "      <th>DURATION</th>\n",
       "      <th>start_location_name</th>\n",
       "      <th>end_location_name</th>\n",
       "      <th>user_id</th>\n",
       "      <th>trip_ledger_id</th>\n",
       "    </tr>\n",
       "  </thead>\n",
       "  <tbody>\n",
       "    <tr>\n",
       "      <th>6153</th>\n",
       "      <td>June</td>\n",
       "      <td>1771698</td>\n",
       "      <td>202</td>\n",
       "      <td>4943618</td>\n",
       "      <td>6/2/2019 23:30</td>\n",
       "      <td>6/2/2019 23:54</td>\n",
       "      <td>0:24:22</td>\n",
       "      <td>2950 Central Ave SE, Albuquerque, NM 87106, USA</td>\n",
       "      <td>5501 Benson Ct NW, Albuquerque, NM 87120, USA</td>\n",
       "      <td>38002132</td>\n",
       "      <td>1641997</td>\n",
       "    </tr>\n",
       "    <tr>\n",
       "      <th>23451</th>\n",
       "      <td>June</td>\n",
       "      <td>2113261</td>\n",
       "      <td>202</td>\n",
       "      <td>9197820</td>\n",
       "      <td>6/29/2019 2:46</td>\n",
       "      <td>6/29/2019 3:05</td>\n",
       "      <td>0:19:00</td>\n",
       "      <td>104 Stanford Dr SE, Albuquerque, NM 87106, USA</td>\n",
       "      <td>114 Cornell Dr SE, Albuquerque, NM 87106, USA</td>\n",
       "      <td>42329629</td>\n",
       "      <td>1975722</td>\n",
       "    </tr>\n",
       "    <tr>\n",
       "      <th>5084</th>\n",
       "      <td>June</td>\n",
       "      <td>1755289</td>\n",
       "      <td>202</td>\n",
       "      <td>9504706</td>\n",
       "      <td>6/2/2019 0:17</td>\n",
       "      <td>6/2/2019 0:29</td>\n",
       "      <td>0:12:40</td>\n",
       "      <td>1400 Central Ave SE, Albuquerque, NM 87106, USA</td>\n",
       "      <td>2820 Central Ave SE, Albuquerque, NM 87106, USA</td>\n",
       "      <td>37767108</td>\n",
       "      <td>1625914</td>\n",
       "    </tr>\n",
       "    <tr>\n",
       "      <th>26329</th>\n",
       "      <td>July</td>\n",
       "      <td>2214774</td>\n",
       "      <td>202</td>\n",
       "      <td>6999629</td>\n",
       "      <td>7/5/2019 22:08</td>\n",
       "      <td>7/5/2019 22:32</td>\n",
       "      <td>0:24:00</td>\n",
       "      <td>300 Dr Martin Luther King Jr Ave NE, Albuquerq...</td>\n",
       "      <td>800 Broadway Blvd NE, Albuquerque, NM 87102, USA</td>\n",
       "      <td>42404625</td>\n",
       "      <td>2073564</td>\n",
       "    </tr>\n",
       "    <tr>\n",
       "      <th>2474</th>\n",
       "      <td>May</td>\n",
       "      <td>1704756</td>\n",
       "      <td>202</td>\n",
       "      <td>5727332</td>\n",
       "      <td>5/29/2019 1:17</td>\n",
       "      <td>5/29/2019 1:22</td>\n",
       "      <td>0:05:03</td>\n",
       "      <td>301a Central Ave NW, Albuquerque, NM 87102, USA</td>\n",
       "      <td>512 Central Ave SE, Albuquerque, NM 87102, USA</td>\n",
       "      <td>35498126</td>\n",
       "      <td>1576737</td>\n",
       "    </tr>\n",
       "    <tr>\n",
       "      <th>9258</th>\n",
       "      <td>June</td>\n",
       "      <td>1823464</td>\n",
       "      <td>202</td>\n",
       "      <td>1884134</td>\n",
       "      <td>6/7/2019 14:42</td>\n",
       "      <td>6/7/2019 14:56</td>\n",
       "      <td>0:13:40</td>\n",
       "      <td>330 Tijeras Ave NW, Albuquerque, NM 87102, USA</td>\n",
       "      <td>102 10th St SW, Albuquerque, NM 87102, USA</td>\n",
       "      <td>39068797</td>\n",
       "      <td>1692482</td>\n",
       "    </tr>\n",
       "    <tr>\n",
       "      <th>33534</th>\n",
       "      <td>July</td>\n",
       "      <td>2463629</td>\n",
       "      <td>202</td>\n",
       "      <td>8017941</td>\n",
       "      <td>7/21/2019 0:45</td>\n",
       "      <td>7/21/2019 0:51</td>\n",
       "      <td>0:06:00</td>\n",
       "      <td>5th @ Marquette, Albuquerque, NM 87102, USA</td>\n",
       "      <td>111 3rd St NW, Albuquerque, NM 87102, USA</td>\n",
       "      <td>42574409</td>\n",
       "      <td>2321615</td>\n",
       "    </tr>\n",
       "    <tr>\n",
       "      <th>26289</th>\n",
       "      <td>July</td>\n",
       "      <td>2212824</td>\n",
       "      <td>202</td>\n",
       "      <td>8825568</td>\n",
       "      <td>7/5/2019 20:47</td>\n",
       "      <td>7/5/2019 20:53</td>\n",
       "      <td>0:06:00</td>\n",
       "      <td>401 Gold Ave SW, Albuquerque, NM 87102, USA</td>\n",
       "      <td>NaN</td>\n",
       "      <td>42403584</td>\n",
       "      <td>2071270</td>\n",
       "    </tr>\n",
       "    <tr>\n",
       "      <th>7402</th>\n",
       "      <td>June</td>\n",
       "      <td>1794727</td>\n",
       "      <td>202</td>\n",
       "      <td>6810958</td>\n",
       "      <td>6/4/2019 23:36</td>\n",
       "      <td>6/5/2019 0:09</td>\n",
       "      <td>0:33:05</td>\n",
       "      <td>2713 Central Ave NW, Albuquerque, NM 87104, USA</td>\n",
       "      <td>118 Rte 66, Albuquerque, NM 87102, USA</td>\n",
       "      <td>38553953</td>\n",
       "      <td>1664761</td>\n",
       "    </tr>\n",
       "    <tr>\n",
       "      <th>27100</th>\n",
       "      <td>July</td>\n",
       "      <td>2239189</td>\n",
       "      <td>202</td>\n",
       "      <td>7821247</td>\n",
       "      <td>7/7/2019 0:40</td>\n",
       "      <td>7/7/2019 1:09</td>\n",
       "      <td>0:29:00</td>\n",
       "      <td>1801 Mountain Rd NW, Albuquerque, NM 87104, USA</td>\n",
       "      <td>2000 Mountain Rd NW, Albuquerque, NM 87104, USA</td>\n",
       "      <td>42422725</td>\n",
       "      <td>2097630</td>\n",
       "    </tr>\n",
       "  </tbody>\n",
       "</table>\n",
       "</div>"
      ],
      "text/plain": [
       "      month  trip_id  region_id  vehicle_id      started_at        ended_at  \\\n",
       "6153   June  1771698        202     4943618  6/2/2019 23:30  6/2/2019 23:54   \n",
       "23451  June  2113261        202     9197820  6/29/2019 2:46  6/29/2019 3:05   \n",
       "5084   June  1755289        202     9504706   6/2/2019 0:17   6/2/2019 0:29   \n",
       "26329  July  2214774        202     6999629  7/5/2019 22:08  7/5/2019 22:32   \n",
       "2474    May  1704756        202     5727332  5/29/2019 1:17  5/29/2019 1:22   \n",
       "9258   June  1823464        202     1884134  6/7/2019 14:42  6/7/2019 14:56   \n",
       "33534  July  2463629        202     8017941  7/21/2019 0:45  7/21/2019 0:51   \n",
       "26289  July  2212824        202     8825568  7/5/2019 20:47  7/5/2019 20:53   \n",
       "7402   June  1794727        202     6810958  6/4/2019 23:36   6/5/2019 0:09   \n",
       "27100  July  2239189        202     7821247   7/7/2019 0:40   7/7/2019 1:09   \n",
       "\n",
       "      DURATION                                start_location_name  \\\n",
       "6153   0:24:22    2950 Central Ave SE, Albuquerque, NM 87106, USA   \n",
       "23451  0:19:00     104 Stanford Dr SE, Albuquerque, NM 87106, USA   \n",
       "5084   0:12:40    1400 Central Ave SE, Albuquerque, NM 87106, USA   \n",
       "26329  0:24:00  300 Dr Martin Luther King Jr Ave NE, Albuquerq...   \n",
       "2474   0:05:03    301a Central Ave NW, Albuquerque, NM 87102, USA   \n",
       "9258   0:13:40     330 Tijeras Ave NW, Albuquerque, NM 87102, USA   \n",
       "33534  0:06:00        5th @ Marquette, Albuquerque, NM 87102, USA   \n",
       "26289  0:06:00        401 Gold Ave SW, Albuquerque, NM 87102, USA   \n",
       "7402   0:33:05    2713 Central Ave NW, Albuquerque, NM 87104, USA   \n",
       "27100  0:29:00    1801 Mountain Rd NW, Albuquerque, NM 87104, USA   \n",
       "\n",
       "                                      end_location_name   user_id  \\\n",
       "6153      5501 Benson Ct NW, Albuquerque, NM 87120, USA  38002132   \n",
       "23451     114 Cornell Dr SE, Albuquerque, NM 87106, USA  42329629   \n",
       "5084    2820 Central Ave SE, Albuquerque, NM 87106, USA  37767108   \n",
       "26329  800 Broadway Blvd NE, Albuquerque, NM 87102, USA  42404625   \n",
       "2474     512 Central Ave SE, Albuquerque, NM 87102, USA  35498126   \n",
       "9258         102 10th St SW, Albuquerque, NM 87102, USA  39068797   \n",
       "33534         111 3rd St NW, Albuquerque, NM 87102, USA  42574409   \n",
       "26289                                               NaN  42403584   \n",
       "7402             118 Rte 66, Albuquerque, NM 87102, USA  38553953   \n",
       "27100   2000 Mountain Rd NW, Albuquerque, NM 87104, USA  42422725   \n",
       "\n",
       "       trip_ledger_id  \n",
       "6153          1641997  \n",
       "23451         1975722  \n",
       "5084          1625914  \n",
       "26329         2073564  \n",
       "2474          1576737  \n",
       "9258          1692482  \n",
       "33534         2321615  \n",
       "26289         2071270  \n",
       "7402          1664761  \n",
       "27100         2097630  "
      ]
     },
     "execution_count": 34,
     "metadata": {},
     "output_type": "execute_result"
    }
   ],
   "source": [
    "df = pd.read_csv('scooter.csv')\n",
    "print(df.shape)\n",
    "df.sample(10)"
   ]
  },
  {
   "cell_type": "code",
   "execution_count": null,
   "id": "0f222556",
   "metadata": {},
   "outputs": [
    {
     "name": "stdout",
     "output_type": "stream",
     "text": [
      "<class 'pandas.core.frame.DataFrame'>\n",
      "RangeIndex: 34226 entries, 0 to 34225\n",
      "Data columns (total 11 columns):\n",
      " #   Column               Non-Null Count  Dtype \n",
      "---  ------               --------------  ----- \n",
      " 0   month                34226 non-null  object\n",
      " 1   trip_id              34226 non-null  int64 \n",
      " 2   region_id            34226 non-null  int64 \n",
      " 3   vehicle_id           34226 non-null  int64 \n",
      " 4   started_at           34226 non-null  object\n",
      " 5   ended_at             34226 non-null  object\n",
      " 6   DURATION             31918 non-null  object\n",
      " 7   start_location_name  34220 non-null  object\n",
      " 8   end_location_name    32156 non-null  object\n",
      " 9   user_id              34226 non-null  int64 \n",
      " 10  trip_ledger_id       34226 non-null  int64 \n",
      "dtypes: int64(5), object(6)\n",
      "memory usage: 2.9+ MB\n"
     ]
    }
   ],
   "source": [
    "df.info()"
   ]
  },
  {
   "cell_type": "code",
   "execution_count": 36,
   "id": "165bf94f",
   "metadata": {},
   "outputs": [
    {
     "data": {
      "text/plain": [
       "month                     0\n",
       "trip_id                   0\n",
       "region_id                 0\n",
       "vehicle_id                0\n",
       "started_at                0\n",
       "ended_at                  0\n",
       "DURATION               2308\n",
       "start_location_name       6\n",
       "end_location_name      2070\n",
       "user_id                   0\n",
       "trip_ledger_id            0\n",
       "dtype: int64"
      ]
     },
     "execution_count": 36,
     "metadata": {},
     "output_type": "execute_result"
    }
   ],
   "source": [
    "df.isnull().sum()"
   ]
  },
  {
   "cell_type": "code",
   "execution_count": null,
   "id": "5249de42",
   "metadata": {},
   "outputs": [
    {
     "data": {
      "text/plain": [
       "Index(['month', 'trip_id', 'region_id', 'vehicle_id', 'started_at', 'ended_at',\n",
       "       'DURATION', 'start_location_name', 'end_location_name', 'user_id',\n",
       "       'trip_ledger_id'],\n",
       "      dtype='object')"
      ]
     },
     "execution_count": 23,
     "metadata": {},
     "output_type": "execute_result"
    }
   ],
   "source": [
    "df.columns"
   ]
  },
  {
   "cell_type": "code",
   "execution_count": 28,
   "id": "d93b061e",
   "metadata": {},
   "outputs": [
    {
     "data": {
      "text/plain": [
       "month                                                                May\n",
       "trip_id                                                          1613639\n",
       "region_id                                                            202\n",
       "vehicle_id                                                       9424537\n",
       "started_at                                               5/21/2019 19:07\n",
       "ended_at                                                 5/21/2019 19:12\n",
       "DURATION                                                         0:04:57\n",
       "start_location_name    1 Domenici Center en Domenici Center, Albuquer...\n",
       "end_location_name        1111 Stanford Dr NE, Albuquerque, NM 87106, USA\n",
       "user_id                                                          8417864\n",
       "trip_ledger_id                                                   1488838\n",
       "Name: 1, dtype: object"
      ]
     },
     "execution_count": 28,
     "metadata": {},
     "output_type": "execute_result"
    }
   ],
   "source": [
    "df.loc[1]"
   ]
  },
  {
   "cell_type": "code",
   "execution_count": null,
   "id": "16063c81",
   "metadata": {},
   "outputs": [],
   "source": [
    "df['start_location_name'].dropna(inplace=True)"
   ]
  }
 ],
 "metadata": {
  "kernelspec": {
   "display_name": "de",
   "language": "python",
   "name": "python3"
  },
  "language_info": {
   "codemirror_mode": {
    "name": "ipython",
    "version": 3
   },
   "file_extension": ".py",
   "mimetype": "text/x-python",
   "name": "python",
   "nbconvert_exporter": "python",
   "pygments_lexer": "ipython3",
   "version": "3.11.11"
  }
 },
 "nbformat": 4,
 "nbformat_minor": 5
}
