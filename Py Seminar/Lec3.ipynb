{
 "cells": [
  {
   "cell_type": "code",
   "execution_count": 2,
   "id": "initial_id",
   "metadata": {
    "ExecuteTime": {
     "end_time": "2024-02-08T11:37:14.194802Z",
     "start_time": "2024-02-08T11:37:14.170448Z"
    },
    "collapsed": true
   },
   "outputs": [
    {
     "name": "stdout",
     "output_type": "stream",
     "text": [
      "Hello, Alice!\n"
     ]
    }
   ],
   "source": [
    "def greet(name):\n",
    "    print(f\"Hello, {name}!\")\n",
    "\n",
    "# Call the function\n",
    "greet(\"Alice\")\n"
   ]
  },
  {
   "cell_type": "code",
   "execution_count": 3,
   "id": "261e4f3e",
   "metadata": {},
   "outputs": [
    {
     "name": "stdout",
     "output_type": "stream",
     "text": [
      "Hello, {name}!\n"
     ]
    }
   ],
   "source": [
    "def greet(name):\n",
    "    print(\"Hello, {name}!\")\n",
    "\n",
    "# Call the function\n",
    "greet(\"Alice\")\n"
   ]
  },
  {
   "cell_type": "code",
   "execution_count": 2,
   "id": "9f04d39a51fea39",
   "metadata": {
    "ExecuteTime": {
     "end_time": "2024-01-14T09:51:27.283294Z",
     "start_time": "2024-01-14T09:51:27.272407Z"
    },
    "collapsed": false
   },
   "outputs": [
    {
     "name": "stdout",
     "output_type": "stream",
     "text": [
      "The sum is: 8\n"
     ]
    }
   ],
   "source": [
    "def add_numbers(a, b):\n",
    "    result = a + b\n",
    "    print(f\"The sum is: {result}\")\n",
    "\n",
    "# Call the function with arguments\n",
    "add_numbers(a=3,b=5)\n"
   ]
  },
  {
   "cell_type": "code",
   "execution_count": 3,
   "id": "2de2c1ab4fe9a5f0",
   "metadata": {
    "ExecuteTime": {
     "end_time": "2024-01-14T09:51:35.506806Z",
     "start_time": "2024-01-14T09:51:35.494387Z"
    },
    "collapsed": false
   },
   "outputs": [
    {
     "name": "stdout",
     "output_type": "stream",
     "text": [
      "16\n"
     ]
    }
   ],
   "source": [
    "def square(x):\n",
    "    return x ** 2\n",
    "\n",
    "result = square(4)\n",
    "print(result)  # Output: 16\n"
   ]
  },
  {
   "cell_type": "code",
   "execution_count": 4,
   "id": "3a37502d51e7020f",
   "metadata": {
    "ExecuteTime": {
     "end_time": "2024-01-14T09:51:43.011203Z",
     "start_time": "2024-01-14T09:51:42.994098Z"
    },
    "collapsed": false
   },
   "outputs": [
    {
     "name": "stdout",
     "output_type": "stream",
     "text": [
      "Hello, Bob!\n",
      "Hi there, Alice!\n"
     ]
    }
   ],
   "source": [
    "def greet(name, greeting=\"Hello\"):\n",
    "    print(f\"{greeting}, {name}!\")\n",
    "\n",
    "greet(\"Bob\")                # Output: Hello, Bob!\n",
    "greet(\"Alice\", \"Hi there\")  # Output: Hi there, Alice!\n"
   ]
  },
  {
   "cell_type": "code",
   "execution_count": 5,
   "id": "c69fd33f590babe2",
   "metadata": {
    "ExecuteTime": {
     "end_time": "2024-01-14T09:51:53.259175Z",
     "start_time": "2024-01-14T09:51:53.238859Z"
    },
    "collapsed": false
   },
   "outputs": [
    {
     "name": "stdout",
     "output_type": "stream",
     "text": [
      "Alice is 25 years old and lives in New York.\n"
     ]
    }
   ],
   "source": [
    "def personal_info(name, age, city):\n",
    "    print(f\"{name} is {age} years old and lives in {city}.\")\n",
    "\n",
    "personal_info(age=25, name=\"Alice\", city=\"New York\")\n"
   ]
  },
  {
   "cell_type": "code",
   "execution_count": 11,
   "id": "4d1012d6121d206d",
   "metadata": {
    "ExecuteTime": {
     "end_time": "2024-02-08T11:41:39.989271Z",
     "start_time": "2024-02-08T11:41:39.966221Z"
    },
    "collapsed": false
   },
   "outputs": [],
   "source": [
    "def add(a, b):\n",
    "    \"\"\"\n",
    "    This function adds two numbers.\n",
    "    Parameters:\n",
    "    - a: The first number\n",
    "    - b: The second number\n",
    "    Returns:\n",
    "    The sum of the two numbers\n",
    "    \"\"\"\n",
    "    return a + b\n"
   ]
  },
  {
   "cell_type": "code",
   "execution_count": 12,
   "id": "7c0e15cb07a896a2",
   "metadata": {
    "ExecuteTime": {
     "end_time": "2024-02-08T11:41:47.894122Z",
     "start_time": "2024-02-08T11:41:47.857799Z"
    },
    "collapsed": false
   },
   "outputs": [
    {
     "name": "stdout",
     "output_type": "stream",
     "text": [
      "Help on function add in module __main__:\n",
      "\n",
      "add(a, b)\n",
      "    This function adds two numbers.\n",
      "    Parameters:\n",
      "    - a: The first number\n",
      "    - b: The second number\n",
      "    Returns:\n",
      "    The sum of the two numbers\n"
     ]
    }
   ],
   "source": [
    "help(add)"
   ]
  },
  {
   "cell_type": "code",
   "execution_count": 5,
   "id": "e393d3c318cc0b88",
   "metadata": {
    "ExecuteTime": {
     "end_time": "2024-01-14T09:52:13.275112Z",
     "start_time": "2024-01-14T09:52:13.112616Z"
    },
    "collapsed": false
   },
   "outputs": [
    {
     "name": "stdout",
     "output_type": "stream",
     "text": [
      "10\n",
      "5\n",
      "10\n"
     ]
    },
    {
     "ename": "NameError",
     "evalue": "name 'local_var' is not defined",
     "output_type": "error",
     "traceback": [
      "\u001b[1;31m---------------------------------------------------------------------------\u001b[0m",
      "\u001b[1;31mNameError\u001b[0m                                 Traceback (most recent call last)",
      "Cell \u001b[1;32mIn[5], line 10\u001b[0m\n\u001b[0;32m      8\u001b[0m my_function()\n\u001b[0;32m      9\u001b[0m \u001b[38;5;28mprint\u001b[39m(global_var)  \u001b[38;5;66;03m# Accessible\u001b[39;00m\n\u001b[1;32m---> 10\u001b[0m \u001b[38;5;28mprint\u001b[39m(\u001b[43mlocal_var\u001b[49m)   \u001b[38;5;66;03m# Error: NameError\u001b[39;00m\n",
      "\u001b[1;31mNameError\u001b[0m: name 'local_var' is not defined"
     ]
    }
   ],
   "source": [
    "global_var = 10\n",
    "\n",
    "def my_function():\n",
    "    local_var = 5\n",
    "    print(global_var)  # Accessible\n",
    "    print(local_var)   # Accessible\n",
    "\n",
    "my_function()\n",
    "print(global_var)  # Accessible\n",
    "print(local_var)   # Error: NameError\n"
   ]
  },
  {
   "cell_type": "code",
   "execution_count": 13,
   "id": "22e7d10730284bc4",
   "metadata": {
    "ExecuteTime": {
     "end_time": "2024-02-08T11:43:22.745790Z",
     "start_time": "2024-02-08T11:43:22.730357Z"
    },
    "collapsed": false
   },
   "outputs": [
    {
     "name": "stdout",
     "output_type": "stream",
     "text": [
      "16\n"
     ]
    }
   ],
   "source": [
    "square = lambda x: x ** 2\n",
    "print(square(4))  # Output: 16\n",
    "# Lambda functions are anonymous functions defined using the lambda keyword. They are often used for short-term operations"
   ]
  },
  {
   "cell_type": "markdown",
   "id": "3b9e5e28c29db641",
   "metadata": {
    "collapsed": false
   },
   "source": [
    "## OOPS\n"
   ]
  },
  {
   "cell_type": "code",
   "execution_count": 14,
   "id": "a8a575832b23c209",
   "metadata": {
    "ExecuteTime": {
     "end_time": "2024-02-08T11:54:39.713051Z",
     "start_time": "2024-02-08T11:54:39.705154Z"
    },
    "collapsed": false
   },
   "outputs": [
    {
     "name": "stdout",
     "output_type": "stream",
     "text": [
      "Dog says Woof\n",
      "Cat says Meow\n"
     ]
    }
   ],
   "source": [
    "class Animal:\n",
    "    def __init__(self, name, sound):\n",
    "        self.name = name\n",
    "        self.sound = sound\n",
    "\n",
    "    def make_sound(self):\n",
    "        print(f\"{self.name} says {self.sound}\")\n",
    "\n",
    "# Creating an object of the Animal class\n",
    "dog = Animal(\"Dog\", \"Woof\")\n",
    "cat = Animal(\"Cat\", \"Meow\")\n",
    "\n",
    "# Using encapsulation to access attributes and methods\n",
    "dog.make_sound()  # Output: Dog says Woof\n",
    "cat.make_sound()  # Output: Cat says Meow\n"
   ]
  },
  {
   "cell_type": "code",
   "execution_count": 15,
   "id": "29f94ba8a7f44c01",
   "metadata": {
    "ExecuteTime": {
     "end_time": "2024-02-08T11:56:08.182816Z",
     "start_time": "2024-02-08T11:56:08.135457Z"
    },
    "collapsed": false
   },
   "outputs": [
    {
     "name": "stdout",
     "output_type": "stream",
     "text": [
      "Buddy barks loudly!\n"
     ]
    }
   ],
   "source": [
    "class Dog(Animal):\n",
    "    def __init__(self, name, breed):\n",
    "        super().__init__(name, \"Woof\")  # Call the constructor of the superclass (Animal)\n",
    "        self.breed = breed\n",
    "\n",
    "    # Polymorphism: Override the make_sound method\n",
    "    def make_sound(self):\n",
    "        print(f\"{self.name} barks loudly!\")\n",
    "\n",
    "# Creating an object of the Dog class\n",
    "my_dog = Dog(\"Buddy\", \"Labrador\")\n",
    "\n",
    "# Using inheritance and polymorphism\n",
    "my_dog.make_sound()  # Output: Buddy barks loudly!\n"
   ]
  },
  {
   "cell_type": "code",
   "execution_count": 16,
   "id": "473c0e419b496524",
   "metadata": {
    "ExecuteTime": {
     "end_time": "2024-02-08T12:15:15.662764Z",
     "start_time": "2024-02-08T12:15:15.659587Z"
    },
    "collapsed": false
   },
   "outputs": [
    {
     "name": "stdout",
     "output_type": "stream",
     "text": [
      "Make: Toyota, Model: Corolla, Year: 2022, Color: Red, Speed: 20 mph\n",
      "Make: Toyota, Model: Corolla, Year: 2022, Color: Red, Speed: 10 mph\n"
     ]
    }
   ],
   "source": [
    "class Car:\n",
    "    def __init__(self, make, model, year, color):\n",
    "        self.make = make\n",
    "        self.model = model\n",
    "        self.year = year\n",
    "        self.color = color\n",
    "        self.speed = 0  # Starting speed is 0\n",
    "\n",
    "    def accelerate(self, increment):\n",
    "        self.speed += increment\n",
    "\n",
    "    def brake(self, decrement):\n",
    "        self.speed -= decrement\n",
    "        if self.speed < 0:\n",
    "            self.speed = 0\n",
    "\n",
    "    def display_info(self):\n",
    "        print(f\"Make: {self.make}, Model: {self.model}, Year: {self.year}, Color: {self.color}, Speed: {self.speed} mph\")\n",
    "\n",
    "# Creating an object of the Car class\n",
    "my_car = Car(\"Toyota\", \"Corolla\", 2022, \"Red\")\n",
    "\n",
    "# Accelerating the car\n",
    "my_car.accelerate(20)\n",
    "\n",
    "# Displaying car information\n",
    "my_car.display_info()  # Output: Make: Toyota, Model: Corolla, Year: 2022, Color: Red, Speed: 20 mph\n",
    "\n",
    "# Braking the car\n",
    "my_car.brake(10)\n",
    "\n",
    "# Displaying updated car information\n",
    "my_car.display_info()  # Output: Make: Toyota, Model: Corolla, Year: 2022, Color: Red, Speed: 10 mph\n"
   ]
  },
  {
   "cell_type": "code",
   "execution_count": 17,
   "id": "65c6c40374c823ba",
   "metadata": {
    "ExecuteTime": {
     "end_time": "2024-02-08T12:15:22.542095Z",
     "start_time": "2024-02-08T12:15:18.381369Z"
    },
    "collapsed": false
   },
   "outputs": [],
   "source": [
    "import numpy as np"
   ]
  },
  {
   "cell_type": "code",
   "execution_count": 18,
   "id": "f93cf5314eea1599",
   "metadata": {
    "ExecuteTime": {
     "end_time": "2024-02-08T12:15:29.779968Z",
     "start_time": "2024-02-08T12:15:29.765542Z"
    },
    "collapsed": false
   },
   "outputs": [
    {
     "data": {
      "text/plain": [
       "array([[1., 1., 1., 1.],\n",
       "       [1., 1., 1., 1.],\n",
       "       [1., 1., 1., 1.],\n",
       "       [1., 1., 1., 1.]])"
      ]
     },
     "execution_count": 18,
     "metadata": {},
     "output_type": "execute_result"
    }
   ],
   "source": [
    "np.ones((4,4))"
   ]
  },
  {
   "cell_type": "code",
   "execution_count": 20,
   "id": "b6b59269e5c598ae",
   "metadata": {
    "ExecuteTime": {
     "end_time": "2024-02-08T18:02:33.218326Z",
     "start_time": "2024-02-08T18:02:29.485469Z"
    },
    "collapsed": false
   },
   "outputs": [
    {
     "name": "stdout",
     "output_type": "stream",
     "text": [
      "False\n"
     ]
    }
   ],
   "source": [
    "pwd = input()\n",
    "num = len(pwd)\n",
    "\n",
    "# Condition 1: Check if the length of the password is between 8 and 32 characters\n",
    "condition1 = 8 <= num <= 32\n",
    "\n",
    "# Condition 2: Check if the first character is an uppercase or lowercase letter\n",
    "first = pwd[0].lower()\n",
    "condition2 = 'a' <= first <= 'z'\n",
    "\n",
    "# Condition 3: Check if the password does not contain any of the invalid characters\n",
    "invalid_chars = {'/', '\\\\', '=', \"'\", '\"'}\n",
    "condition3 = not any(char in invalid_chars for char in pwd)\n",
    "\n",
    "# Condition 4: Check if the password does not contain spaces\n",
    "condition4 = ' ' not in pwd\n",
    "\n",
    "# Combine all conditions to determine if the password is valid\n",
    "is_valid_password = condition1 and condition2 and condition3 and condition4\n",
    "\n",
    "print(is_valid_password)\n",
    "\n",
    "    \n",
    "    "
   ]
  },
  {
   "cell_type": "code",
   "execution_count": null,
   "id": "8a1f74f2e7a7aed3",
   "metadata": {
    "collapsed": false
   },
   "outputs": [],
   "source": []
  }
 ],
 "metadata": {
  "kernelspec": {
   "display_name": "Python 3",
   "language": "python",
   "name": "python3"
  },
  "language_info": {
   "codemirror_mode": {
    "name": "ipython",
    "version": 3
   },
   "file_extension": ".py",
   "mimetype": "text/x-python",
   "name": "python",
   "nbconvert_exporter": "python",
   "pygments_lexer": "ipython3",
   "version": "3.12.0"
  }
 },
 "nbformat": 4,
 "nbformat_minor": 5
}
