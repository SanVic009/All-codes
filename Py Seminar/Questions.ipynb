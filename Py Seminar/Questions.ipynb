{
 "cells": [
  {
   "cell_type": "code",
   "execution_count": 13,
   "metadata": {},
   "outputs": [
    {
     "name": "stdout",
     "output_type": "stream",
     "text": [
      "Odd\n"
     ]
    }
   ],
   "source": [
    "x=int(input(\"Enter the number\"))\n",
    "if x%2==0: print(\"Even\")\n",
    "else :print(\"Odd\")"
   ]
  },
  {
   "cell_type": "code",
   "execution_count": 2,
   "metadata": {},
   "outputs": [
    {
     "name": "stdout",
     "output_type": "stream",
     "text": [
      "24\n"
     ]
    }
   ],
   "source": [
    "x=int(input(\"Enter the number :\"))\n",
    "fact=1\n",
    "for i in range(1,x+1):\n",
    "    fact=fact*i\n",
    "print(fact)"
   ]
  },
  {
   "cell_type": "code",
   "execution_count": 12,
   "metadata": {},
   "outputs": [
    {
     "name": "stdout",
     "output_type": "stream",
     "text": [
      "1\n",
      "22\n",
      "333\n",
      "4444\n",
      "55555\n"
     ]
    }
   ],
   "source": [
    "x=int(input(\"Enter the number of rows :\"))\n",
    "\n",
    "for i in range (1, x+1):\n",
    "    for j in range(1, i+1):\n",
    "        print(i, end=\"\")\n",
    "    print()"
   ]
  },
  {
   "cell_type": "code",
   "execution_count": 16,
   "metadata": {},
   "outputs": [
    {
     "name": "stdout",
     "output_type": "stream",
     "text": [
      "55\n",
      "55.0\n"
     ]
    }
   ],
   "source": [
    "n=int(input(\"Enter the number\"))\n",
    "x=0\n",
    "for i in range(1, n+1):\n",
    "    x=x+(i**2)\n",
    "print(x)\n",
    "\n",
    "x=0\n",
    "print(n*(n+1)*(2*n+1)/6)"
   ]
  },
  {
   "cell_type": "code",
   "execution_count": 3,
   "metadata": {},
   "outputs": [
    {
     "name": "stdout",
     "output_type": "stream",
     "text": [
      "The year 100 is not a leap year.\n",
      "\n"
     ]
    }
   ],
   "source": [
    "year=int(input(\"Enter the year to check if it is a leap year :\"))\n",
    "if year%100==0:\n",
    "    if year%400==0:\n",
    "        print(f\"The year {year} is leap year\")\n",
    "        print()\n",
    "    else: \n",
    "        print(f\"The year {year} is not a leap year.\")\n",
    "        print()\n",
    "elif year%4==0:\n",
    "    print(f\"The year {year} is a leap year.\")\n",
    "    print()\n",
    "else :\n",
    "    print(f\"The year {year} is not a leap year.\")\n",
    "    print()"
   ]
  },
  {
   "cell_type": "code",
   "execution_count": 7,
   "metadata": {},
   "outputs": [
    {
     "name": "stdout",
     "output_type": "stream",
     "text": [
      "The entered character f is a consonant.\n",
      "\n"
     ]
    }
   ],
   "source": [
    "c=str(input(\"Enter a character\"))\n",
    "if c=='a' or c=='e' or c=='i' or c=='o' or c=='u':\n",
    "    print(f\"The entered character {c} is a vowel.\")\n",
    "    print()\n",
    "else:\n",
    "    print(f\"The entered character {c} is a consonant.\")\n",
    "    print()"
   ]
  },
  {
   "cell_type": "code",
   "execution_count": 8,
   "metadata": {},
   "outputs": [
    {
     "name": "stdout",
     "output_type": "stream",
     "text": [
      "32\n"
     ]
    }
   ],
   "source": [
    "p=int(input(\"Enter a number\"))\n",
    "print(abs(p))"
   ]
  },
  {
   "cell_type": "code",
   "execution_count": 10,
   "metadata": {},
   "outputs": [
    {
     "name": "stdout",
     "output_type": "stream",
     "text": [
      "The interest on the principal amount 100 @ 10 for 1 years is 10.0\n"
     ]
    }
   ],
   "source": [
    "principal=int(input(\"Enter the principal amount:\"))\n",
    "rate=int(input(\"Enter the rate of interest :\"))\n",
    "time=int(input(\"Enter the time peirod :\"))\n",
    "'''\n",
    "si= p*t*r/100\n",
    "'''\n",
    "print(f\"The interest on the principal amount {principal} @ {rate}% p.a. for {time} years is {principal*time*rate/100}\")"
   ]
  },
  {
   "cell_type": "code",
   "execution_count": 12,
   "metadata": {},
   "outputs": [
    {
     "name": "stdout",
     "output_type": "stream",
     "text": [
      "9\n",
      "18\n",
      "27\n",
      "36\n",
      "45\n",
      "54\n",
      "63\n",
      "72\n",
      "81\n",
      "90\n"
     ]
    }
   ],
   "source": [
    "x=int(input(\"Enter the number which you want table of :\"))\n",
    "for i in range(1, 11):\n",
    "    print(i*x)"
   ]
  },
  {
   "cell_type": "code",
   "execution_count": 43,
   "metadata": {},
   "outputs": [
    {
     "data": {
      "text/plain": [
       "[3, 35, 12, 634, 234, 32, 32, 452, 87, 6, 5, 4, 3, 2, 1]"
      ]
     },
     "execution_count": 43,
     "metadata": {},
     "output_type": "execute_result"
    }
   ],
   "source": [
    "l1=[1,2,3,4,5,6,87,452,32,32,234,634,12,35,3]\n",
    "l1.reverse()\n",
    "l1"
   ]
  },
  {
   "cell_type": "code",
   "execution_count": 44,
   "metadata": {},
   "outputs": [
    {
     "data": {
      "text/plain": [
       "[1, 3, 5, 87, 32, 234, 12, 3]"
      ]
     },
     "execution_count": 44,
     "metadata": {},
     "output_type": "execute_result"
    }
   ],
   "source": [
    "l1.reverse()\n",
    "l1[0::2]"
   ]
  },
  {
   "cell_type": "code",
   "execution_count": null,
   "metadata": {},
   "outputs": [],
   "source": [
    "len(l1)"
   ]
  }
 ],
 "metadata": {
  "kernelspec": {
   "display_name": "Python 3",
   "language": "python",
   "name": "python3"
  },
  "language_info": {
   "codemirror_mode": {
    "name": "ipython",
    "version": 3
   },
   "file_extension": ".py",
   "mimetype": "text/x-python",
   "name": "python",
   "nbconvert_exporter": "python",
   "pygments_lexer": "ipython3",
   "version": "3.12.0"
  }
 },
 "nbformat": 4,
 "nbformat_minor": 2
}
