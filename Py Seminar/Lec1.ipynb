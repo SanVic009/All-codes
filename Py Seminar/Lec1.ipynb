{
 "cells": [
  {
   "cell_type": "markdown",
   "id": "fed02fb50bf23858",
   "metadata": {
    "collapsed": false
   },
   "source": [
    "# In this video we will learn about Data types Vairables  Flow Controls a0nd operators\n"
   ]
  },
  {
   "cell_type": "markdown",
   "id": "88eacb3172cab8e3",
   "metadata": {
    "collapsed": false
   },
   "source": [
    "### Data Types"
   ]
  },
  {
   "cell_type": "code",
   "execution_count": 1,
   "id": "da84ca59912b52eb",
   "metadata": {
    "ExecuteTime": {
     "end_time": "2024-02-07T16:54:06.372294Z",
     "start_time": "2024-02-07T16:54:06.368230Z"
    },
    "collapsed": false
   },
   "outputs": [
    {
     "name": "stdout",
     "output_type": "stream",
     "text": [
      "Hello\n",
      "Hello\n"
     ]
    }
   ],
   "source": [
    "print(\"Hello\")\n",
    "print('Hello')\n"
   ]
  },
  {
   "cell_type": "code",
   "execution_count": 3,
   "id": "afc95fc4e92a9d23",
   "metadata": {
    "ExecuteTime": {
     "end_time": "2024-02-07T16:55:16.581184Z",
     "start_time": "2024-02-07T16:55:16.558832Z"
    },
    "collapsed": false
   },
   "outputs": [],
   "source": [
    "# Integer\n",
    "x = 5\n",
    "\n",
    "#Float \n",
    "y=3.14\n",
    "\n",
    "#Complex\n",
    "z=2+3j "
   ]
  },
  {
   "cell_type": "code",
   "execution_count": 10,
   "id": "41583991c080aacb",
   "metadata": {
    "ExecuteTime": {
     "end_time": "2024-02-07T16:55:17.881228Z",
     "start_time": "2024-02-07T16:55:17.843572Z"
    },
    "collapsed": false
   },
   "outputs": [
    {
     "name": "stdout",
     "output_type": "stream",
     "text": [
      "5\n",
      "3.14\n",
      "(2+3j)\n"
     ]
    }
   ],
   "source": [
    "print(x)\n",
    "print(y)\n",
    "print(z)"
   ]
  },
  {
   "cell_type": "code",
   "execution_count": 11,
   "id": "40cc71533c55dde2",
   "metadata": {
    "ExecuteTime": {
     "end_time": "2024-02-07T16:55:37.460197Z",
     "start_time": "2024-02-07T16:55:37.431198Z"
    },
    "collapsed": false
   },
   "outputs": [
    {
     "name": "stdout",
     "output_type": "stream",
     "text": [
      "<class 'int'>\n",
      "<class 'float'>\n",
      "<class 'complex'>\n"
     ]
    }
   ],
   "source": [
    "print(type(x))\n",
    "print(type(y))\n",
    "print(type(z))"
   ]
  },
  {
   "cell_type": "code",
   "execution_count": 12,
   "id": "cc4646ee2d84b74d",
   "metadata": {
    "ExecuteTime": {
     "end_time": "2024-02-07T16:56:45.068083Z",
     "start_time": "2024-02-07T16:56:45.042246Z"
    },
    "collapsed": false
   },
   "outputs": [
    {
     "name": "stdout",
     "output_type": "stream",
     "text": [
      "6\n"
     ]
    }
   ],
   "source": [
    "x='6'\n",
    "print(x)"
   ]
  },
  {
   "cell_type": "code",
   "execution_count": 13,
   "id": "62fe8c96ffd91d50",
   "metadata": {
    "ExecuteTime": {
     "end_time": "2024-02-07T16:56:57.008631Z",
     "start_time": "2024-02-07T16:56:56.994406Z"
    },
    "collapsed": false
   },
   "outputs": [
    {
     "name": "stdout",
     "output_type": "stream",
     "text": [
      "<class 'str'>\n"
     ]
    }
   ],
   "source": [
    "print(type(x))"
   ]
  },
  {
   "cell_type": "code",
   "execution_count": 14,
   "id": "9e21551ee20b85f9",
   "metadata": {
    "ExecuteTime": {
     "end_time": "2024-02-07T10:58:58.165885Z",
     "start_time": "2024-02-07T10:58:58.138281Z"
    },
    "collapsed": false
   },
   "outputs": [
    {
     "data": {
      "text/plain": [
       "'Hello World'"
      ]
     },
     "execution_count": 14,
     "metadata": {},
     "output_type": "execute_result"
    }
   ],
   "source": [
    "text='Hello World'\n",
    "text\n"
   ]
  },
  {
   "cell_type": "code",
   "execution_count": 15,
   "id": "ecea161e3e2e9ad9",
   "metadata": {
    "ExecuteTime": {
     "end_time": "2024-02-07T02:56:41.251660Z",
     "start_time": "2024-02-07T02:56:41.243835Z"
    },
    "collapsed": false
   },
   "outputs": [],
   "source": [
    "#list\n",
    "a=[1,2,3,\"Kartik\"]\n",
    "\n",
    "#Range\n",
    "b=range(10)"
   ]
  },
  {
   "cell_type": "code",
   "execution_count": 16,
   "id": "382a884c450922f7",
   "metadata": {
    "ExecuteTime": {
     "end_time": "2024-02-07T16:57:48.808387Z",
     "start_time": "2024-02-07T16:57:48.782943Z"
    },
    "collapsed": false
   },
   "outputs": [],
   "source": [
    "is_true = True\n",
    "is_false = False"
   ]
  },
  {
   "cell_type": "code",
   "execution_count": 17,
   "id": "ff416302fdb8198",
   "metadata": {
    "ExecuteTime": {
     "end_time": "2024-02-07T11:00:45.980607Z",
     "start_time": "2024-02-07T11:00:45.934751Z"
    },
    "collapsed": false
   },
   "outputs": [
    {
     "name": "stdout",
     "output_type": "stream",
     "text": [
      "<class 'str'>\n"
     ]
    }
   ],
   "source": [
    "# Checking type\n",
    "print(type(x))\n"
   ]
  },
  {
   "cell_type": "code",
   "execution_count": 18,
   "id": "c22c54facdf17951",
   "metadata": {
    "collapsed": false
   },
   "outputs": [],
   "source": [
    "x,y,z=100,200,300"
   ]
  },
  {
   "cell_type": "code",
   "execution_count": 19,
   "id": "2165f92ad298bb6c",
   "metadata": {
    "ExecuteTime": {
     "end_time": "2024-02-07T02:56:43.617198Z",
     "start_time": "2024-02-07T02:56:43.605110Z"
    },
    "collapsed": false
   },
   "outputs": [
    {
     "name": "stdout",
     "output_type": "stream",
     "text": [
      "<class 'str'>\n"
     ]
    }
   ],
   "source": [
    "fun='a'\n",
    "print(type(fun))"
   ]
  },
  {
   "cell_type": "markdown",
   "id": "b0c76d0b897ba402",
   "metadata": {
    "collapsed": false
   },
   "source": [
    "### Variables"
   ]
  },
  {
   "cell_type": "markdown",
   "id": "34f3fbd063cc0d49",
   "metadata": {
    "collapsed": false
   },
   "source": [
    "Variable Naming Rules:\n",
    "1. Variables must start with a letter (a-z, A-Z) or an underscore (_).\n",
    "2. The remaining characters in a variable name can include letters, numbers, and underscores.\n",
    "3. Variable names are case-sensitive (e.g., myVar and myvar are different).\n",
    "4. Avoid using Python reserved words (e.g., if, else, while, class) as variable names."
   ]
  },
  {
   "cell_type": "code",
   "execution_count": 20,
   "id": "b4332f861e681e18",
   "metadata": {
    "ExecuteTime": {
     "end_time": "2024-02-07T02:56:45.556910Z",
     "start_time": "2024-02-07T02:56:45.551097Z"
    },
    "collapsed": false
   },
   "outputs": [],
   "source": [
    "x=2\n",
    "t=\"hello\"\n",
    "z=True"
   ]
  },
  {
   "cell_type": "code",
   "execution_count": 21,
   "id": "118ef155162fcae1",
   "metadata": {
    "ExecuteTime": {
     "end_time": "2024-02-07T02:56:46.025305Z",
     "start_time": "2024-02-07T02:56:46.004258Z"
    },
    "collapsed": false
   },
   "outputs": [],
   "source": [
    "x, y, z = 5, \"hello\", True"
   ]
  },
  {
   "cell_type": "code",
   "execution_count": 22,
   "id": "40cdf21d587104d",
   "metadata": {
    "ExecuteTime": {
     "end_time": "2024-02-07T02:56:46.444890Z",
     "start_time": "2024-02-07T02:56:46.431668Z"
    },
    "collapsed": false
   },
   "outputs": [],
   "source": [
    "#Dynamic Assignments"
   ]
  },
  {
   "cell_type": "code",
   "execution_count": 23,
   "id": "acb56d11f565907b",
   "metadata": {
    "ExecuteTime": {
     "end_time": "2024-02-07T02:56:46.982490Z",
     "start_time": "2024-02-07T02:56:46.970832Z"
    },
    "collapsed": false
   },
   "outputs": [],
   "source": [
    "x=10"
   ]
  },
  {
   "cell_type": "code",
   "execution_count": 24,
   "id": "4ce80d11945fcfc9",
   "metadata": {
    "ExecuteTime": {
     "end_time": "2024-02-07T02:56:47.401916Z",
     "start_time": "2024-02-07T02:56:47.388445Z"
    },
    "collapsed": false
   },
   "outputs": [
    {
     "name": "stdout",
     "output_type": "stream",
     "text": [
      "10\n"
     ]
    }
   ],
   "source": [
    "print(x)"
   ]
  },
  {
   "cell_type": "code",
   "execution_count": 25,
   "id": "7c66b5417515eed4",
   "metadata": {
    "ExecuteTime": {
     "end_time": "2024-02-07T02:56:47.799113Z",
     "start_time": "2024-02-07T02:56:47.791786Z"
    },
    "collapsed": false
   },
   "outputs": [],
   "source": [
    "x=10.5"
   ]
  },
  {
   "cell_type": "code",
   "execution_count": 26,
   "id": "91c56f86b31dafb3",
   "metadata": {
    "ExecuteTime": {
     "end_time": "2024-02-07T02:56:48.217211Z",
     "start_time": "2024-02-07T02:56:48.204466Z"
    },
    "collapsed": false
   },
   "outputs": [
    {
     "name": "stdout",
     "output_type": "stream",
     "text": [
      "10.5\n"
     ]
    }
   ],
   "source": [
    "print(x)"
   ]
  },
  {
   "cell_type": "code",
   "execution_count": 27,
   "id": "7131a48a4a20bad1",
   "metadata": {
    "ExecuteTime": {
     "end_time": "2024-01-04T17:21:14.512838Z",
     "start_time": "2024-01-04T17:21:14.500940Z"
    },
    "collapsed": false
   },
   "outputs": [],
   "source": [
    "a=10\n"
   ]
  },
  {
   "cell_type": "code",
   "execution_count": 28,
   "id": "21b77bde5cc285f0",
   "metadata": {
    "ExecuteTime": {
     "end_time": "2024-01-04T17:21:44.282174Z",
     "start_time": "2024-01-04T17:21:44.276836Z"
    },
    "collapsed": false
   },
   "outputs": [],
   "source": [
    "a=\"kartik\""
   ]
  },
  {
   "cell_type": "code",
   "execution_count": 29,
   "id": "2fcf28101d77af59",
   "metadata": {
    "ExecuteTime": {
     "end_time": "2024-01-04T17:22:36.859480Z",
     "start_time": "2024-01-04T17:22:36.851899Z"
    },
    "collapsed": false
   },
   "outputs": [
    {
     "ename": "SyntaxError",
     "evalue": "invalid decimal literal (604457691.py, line 2)",
     "output_type": "error",
     "traceback": [
      "\u001b[1;36m  Cell \u001b[1;32mIn[29], line 2\u001b[1;36m\u001b[0m\n\u001b[1;33m    1var=20\u001b[0m\n\u001b[1;37m    ^\u001b[0m\n\u001b[1;31mSyntaxError\u001b[0m\u001b[1;31m:\u001b[0m invalid decimal literal\n"
     ]
    }
   ],
   "source": [
    "# var=10\n",
    "# 1var=20\n",
    "# _var=10\n",
    "\n"
   ]
  },
  {
   "cell_type": "code",
   "execution_count": 36,
   "id": "ba5e1ca7c06a7bc2",
   "metadata": {
    "ExecuteTime": {
     "end_time": "2024-02-07T17:00:21.859420Z",
     "start_time": "2024-02-07T17:00:21.834957Z"
    },
    "collapsed": false
   },
   "outputs": [],
   "source": [
    "a=10.8902132140214\n"
   ]
  },
  {
   "cell_type": "code",
   "execution_count": 37,
   "id": "91c96eb3486900d1",
   "metadata": {
    "ExecuteTime": {
     "end_time": "2024-02-07T17:00:27.514081Z",
     "start_time": "2024-02-07T17:00:27.487579Z"
    },
    "collapsed": false
   },
   "outputs": [
    {
     "data": {
      "text/plain": [
       "10"
      ]
     },
     "execution_count": 37,
     "metadata": {},
     "output_type": "execute_result"
    }
   ],
   "source": [
    "b=int(a)\n",
    "b"
   ]
  },
  {
   "cell_type": "code",
   "execution_count": 38,
   "id": "e0ef177e1a4c364c",
   "metadata": {
    "ExecuteTime": {
     "end_time": "2024-02-07T17:00:33.559283Z",
     "start_time": "2024-02-07T17:00:33.514538Z"
    },
    "collapsed": false
   },
   "outputs": [
    {
     "data": {
      "text/plain": [
       "10.0"
      ]
     },
     "execution_count": 38,
     "metadata": {},
     "output_type": "execute_result"
    }
   ],
   "source": [
    "c=float(b)\n",
    "c"
   ]
  },
  {
   "cell_type": "code",
   "execution_count": 39,
   "id": "57038b2c57c43820",
   "metadata": {
    "ExecuteTime": {
     "end_time": "2024-02-07T17:00:41.319097Z",
     "start_time": "2024-02-07T17:00:41.304671Z"
    },
    "collapsed": false
   },
   "outputs": [
    {
     "data": {
      "text/plain": [
       "'10.0'"
      ]
     },
     "execution_count": 39,
     "metadata": {},
     "output_type": "execute_result"
    }
   ],
   "source": [
    "d=str(c)\n",
    "d"
   ]
  },
  {
   "cell_type": "code",
   "execution_count": 40,
   "id": "f32b1d5dc7903b40",
   "metadata": {
    "ExecuteTime": {
     "end_time": "2024-02-07T17:00:50.145087Z",
     "start_time": "2024-02-07T17:00:50.114552Z"
    },
    "collapsed": false
   },
   "outputs": [
    {
     "data": {
      "text/plain": [
       "str"
      ]
     },
     "execution_count": 40,
     "metadata": {},
     "output_type": "execute_result"
    }
   ],
   "source": [
    "type(d)\n"
   ]
  },
  {
   "cell_type": "markdown",
   "id": "ea867c3c9e870a11",
   "metadata": {
    "collapsed": false
   },
   "source": [
    "|### Conditional Statement\n"
   ]
  },
  {
   "cell_type": "raw",
   "id": "1c37f0c0e5259aa9",
   "metadata": {
    "collapsed": false
   },
   "source": [
    "In python there are two types of conditional statements\n",
    "1. IF loop:\n",
    "    If():\n",
    "        \n",
    "    else:\n",
    "        \n",
    "2. IF elif:\n",
    "MUltiple conditions \n",
    "     \n",
    "        "
   ]
  },
  {
   "cell_type": "code",
   "execution_count": 30,
   "id": "1d35a404af8ede05",
   "metadata": {
    "ExecuteTime": {
     "end_time": "2024-02-07T02:55:56.008640Z",
     "start_time": "2024-02-07T02:55:55.800182Z"
    },
    "collapsed": false
   },
   "outputs": [
    {
     "name": "stdout",
     "output_type": "stream",
     "text": [
      "I am passionate about education.\n"
     ]
    }
   ],
   "source": [
    "\n",
    "\n",
    "education_interest = True\n",
    "\n",
    "if education_interest:\n",
    "    print(\"I am passionate about education.\")\n",
    "else:\n",
    "    print(\"I am not interested in education.\")\n",
    "\n"
   ]
  },
  {
   "cell_type": "code",
   "execution_count": 31,
   "id": "af84ee319b0394e8",
   "metadata": {
    "ExecuteTime": {
     "end_time": "2024-02-07T02:55:56.118098Z",
     "start_time": "2024-02-07T02:55:56.007195Z"
    },
    "collapsed": false
   },
   "outputs": [
    {
     "name": "stdout",
     "output_type": "stream",
     "text": [
      "I value quality but not quantity.\n"
     ]
    }
   ],
   "source": [
    "quality = True\n",
    "quantity = False\n",
    "\n",
    "if quality and quantity:\n",
    "    print(\"I value quality over quantity.\")\n",
    "elif quality and not quantity:\n",
    "    print(\"I value quality but not quantity.\")\n",
    "else:\n",
    "    print(\"I don't value quality or quantity.\")\n"
   ]
  },
  {
   "cell_type": "code",
   "execution_count": 32,
   "id": "99c8ec3deefcfe91",
   "metadata": {
    "ExecuteTime": {
     "end_time": "2024-01-03T18:31:11.401825Z",
     "start_time": "2024-01-03T18:31:11.388214Z"
    },
    "collapsed": false
   },
   "outputs": [
    {
     "name": "stdout",
     "output_type": "stream",
     "text": [
      "Positive\n"
     ]
    }
   ],
   "source": [
    "x = 10\n",
    "if x > 0:\n",
    "    print(\"Positive\")\n",
    "elif x == 0:\n",
    "    print(\"Zero\")\n",
    "else:\n",
    "    print(\"Negative\")\n"
   ]
  },
  {
   "cell_type": "markdown",
   "id": "6b6996ea63b20f14",
   "metadata": {
    "collapsed": false
   },
   "source": [
    "### Operators"
   ]
  },
  {
   "cell_type": "raw",
   "id": "340447eba46d3a00",
   "metadata": {
    "collapsed": false
   },
   "source": [
    "1. Arithmetic\n",
    "\n",
    ".Bitwise\n",
    "4. Assignment \n",
    "5.Compariosn\n",
    "6.Logical\n",
    "7.Identity"
   ]
  },
  {
   "cell_type": "code",
   "execution_count": 33,
   "id": "80f1225096615228",
   "metadata": {
    "ExecuteTime": {
     "end_time": "2024-02-07T11:11:54.940678Z",
     "start_time": "2024-02-07T11:11:54.906562Z"
    },
    "collapsed": false
   },
   "outputs": [],
   "source": [
    "# Artithmetic\n",
    "a=10\n",
    "b=20\n"
   ]
  },
  {
   "cell_type": "code",
   "execution_count": 34,
   "id": "6bcab17bddb2d323",
   "metadata": {
    "ExecuteTime": {
     "end_time": "2024-02-07T11:12:33.016017Z",
     "start_time": "2024-02-07T11:12:32.990330Z"
    },
    "collapsed": false
   },
   "outputs": [
    {
     "data": {
      "text/plain": [
       "30"
      ]
     },
     "execution_count": 34,
     "metadata": {},
     "output_type": "execute_result"
    }
   ],
   "source": [
    "a+b"
   ]
  },
  {
   "cell_type": "code",
   "execution_count": 35,
   "id": "aabf7add8809d6bf",
   "metadata": {
    "ExecuteTime": {
     "end_time": "2024-02-07T11:12:39.614239Z",
     "start_time": "2024-02-07T11:12:39.537191Z"
    },
    "collapsed": false
   },
   "outputs": [
    {
     "data": {
      "text/plain": [
       "-10"
      ]
     },
     "execution_count": 35,
     "metadata": {},
     "output_type": "execute_result"
    }
   ],
   "source": [
    "a-b"
   ]
  },
  {
   "cell_type": "code",
   "execution_count": null,
   "id": "6f35adeaa56602b1",
   "metadata": {
    "ExecuteTime": {
     "end_time": "2024-02-07T11:12:46.555757Z",
     "start_time": "2024-02-07T11:12:46.519525Z"
    },
    "collapsed": false
   },
   "outputs": [
    {
     "data": {
      "text/plain": [
       "200"
      ]
     },
     "execution_count": 30,
     "metadata": {},
     "output_type": "execute_result"
    }
   ],
   "source": [
    "a*b"
   ]
  },
  {
   "cell_type": "code",
   "execution_count": null,
   "id": "aaef2520dcefc17b",
   "metadata": {
    "ExecuteTime": {
     "end_time": "2024-02-07T11:12:49.571770Z",
     "start_time": "2024-02-07T11:12:49.528857Z"
    },
    "collapsed": false
   },
   "outputs": [
    {
     "data": {
      "text/plain": [
       "0.5"
      ]
     },
     "execution_count": 31,
     "metadata": {},
     "output_type": "execute_result"
    }
   ],
   "source": [
    "a/b"
   ]
  },
  {
   "cell_type": "code",
   "execution_count": null,
   "id": "7c2ae477dcf42319",
   "metadata": {
    "ExecuteTime": {
     "end_time": "2024-02-07T11:12:55.105239Z",
     "start_time": "2024-02-07T11:12:55.038362Z"
    },
    "collapsed": false
   },
   "outputs": [
    {
     "data": {
      "text/plain": [
       "0"
      ]
     },
     "execution_count": 32,
     "metadata": {},
     "output_type": "execute_result"
    }
   ],
   "source": [
    "b%a"
   ]
  },
  {
   "cell_type": "code",
   "execution_count": null,
   "id": "109cf09f60c88879",
   "metadata": {
    "ExecuteTime": {
     "end_time": "2024-02-07T11:13:03.387407Z",
     "start_time": "2024-02-07T11:13:03.327089Z"
    },
    "collapsed": false
   },
   "outputs": [
    {
     "data": {
      "text/plain": [
       "2"
      ]
     },
     "execution_count": 33,
     "metadata": {},
     "output_type": "execute_result"
    }
   ],
   "source": [
    "b//a"
   ]
  },
  {
   "cell_type": "code",
   "execution_count": null,
   "id": "ea26c2c8edfd03b1",
   "metadata": {
    "ExecuteTime": {
     "end_time": "2024-01-04T17:35:50.655546Z",
     "start_time": "2024-01-04T17:35:50.620781Z"
    },
    "collapsed": false
   },
   "outputs": [
    {
     "data": {
      "text/plain": [
       "100"
      ]
     },
     "execution_count": 55,
     "metadata": {},
     "output_type": "execute_result"
    }
   ],
   "source": [
    "a=10\n",
    "b=2\n",
    "a**b"
   ]
  },
  {
   "cell_type": "raw",
   "id": "87122b57d037a4b6",
   "metadata": {
    "collapsed": false
   },
   "source": [
    "1.+-addition\n",
    "2.- - Subtractiom\n",
    "3. * Multiplication\n",
    "4. / Division\n",
    "5. // Floor Division  Divisor\n",
    "6. % MOdulus remainder\n",
    "7. ** Exponention power values"
   ]
  },
  {
   "cell_type": "raw",
   "id": "2723519a042e98c8",
   "metadata": {
    "collapsed": false
   },
   "source": [
    "Assignment Operators"
   ]
  },
  {
   "cell_type": "code",
   "execution_count": null,
   "id": "262a5f93f56e5fbc",
   "metadata": {
    "ExecuteTime": {
     "end_time": "2024-01-04T17:39:26.853785Z",
     "start_time": "2024-01-04T17:39:26.836679Z"
    },
    "collapsed": false
   },
   "outputs": [],
   "source": [
    "a=10\n",
    "b=20\n"
   ]
  },
  {
   "cell_type": "code",
   "execution_count": null,
   "id": "b9e1b5ac05000ba7",
   "metadata": {
    "ExecuteTime": {
     "end_time": "2024-01-04T17:39:27.238800Z",
     "start_time": "2024-01-04T17:39:27.225243Z"
    },
    "collapsed": false
   },
   "outputs": [
    {
     "data": {
      "text/plain": [
       "False"
      ]
     },
     "execution_count": 70,
     "metadata": {},
     "output_type": "execute_result"
    }
   ],
   "source": [
    "a==b"
   ]
  },
  {
   "cell_type": "code",
   "execution_count": null,
   "id": "55c8283e4e9909cb",
   "metadata": {
    "ExecuteTime": {
     "end_time": "2024-01-04T17:39:27.625137Z",
     "start_time": "2024-01-04T17:39:27.621232Z"
    },
    "collapsed": false
   },
   "outputs": [
    {
     "data": {
      "text/plain": [
       "True"
      ]
     },
     "execution_count": 71,
     "metadata": {},
     "output_type": "execute_result"
    }
   ],
   "source": [
    "a!=b"
   ]
  },
  {
   "cell_type": "code",
   "execution_count": null,
   "id": "25f45aa7ba12cf96",
   "metadata": {
    "ExecuteTime": {
     "end_time": "2024-01-04T17:39:28.874886Z",
     "start_time": "2024-01-04T17:39:28.861670Z"
    },
    "collapsed": false
   },
   "outputs": [
    {
     "data": {
      "text/plain": [
       "30"
      ]
     },
     "execution_count": 72,
     "metadata": {},
     "output_type": "execute_result"
    }
   ],
   "source": [
    "a+=b\n",
    "a"
   ]
  },
  {
   "cell_type": "code",
   "execution_count": null,
   "id": "fbbdca15be3ad4cb",
   "metadata": {
    "ExecuteTime": {
     "end_time": "2024-01-04T17:39:29.799312Z",
     "start_time": "2024-01-04T17:39:29.784839Z"
    },
    "collapsed": false
   },
   "outputs": [
    {
     "data": {
      "text/plain": [
       "10"
      ]
     },
     "execution_count": 73,
     "metadata": {},
     "output_type": "execute_result"
    }
   ],
   "source": [
    "a-=b\n",
    "a"
   ]
  },
  {
   "cell_type": "code",
   "execution_count": null,
   "id": "bda74bc230b45ea5",
   "metadata": {
    "ExecuteTime": {
     "end_time": "2024-01-04T17:39:40.144440Z",
     "start_time": "2024-01-04T17:39:40.108444Z"
    },
    "collapsed": false
   },
   "outputs": [],
   "source": [
    "a*=b"
   ]
  },
  {
   "cell_type": "code",
   "execution_count": null,
   "id": "877af8e6a4fb7dd4",
   "metadata": {
    "ExecuteTime": {
     "end_time": "2024-01-04T17:39:41.878598Z",
     "start_time": "2024-01-04T17:39:41.840040Z"
    },
    "collapsed": false
   },
   "outputs": [
    {
     "data": {
      "text/plain": [
       "200"
      ]
     },
     "execution_count": 75,
     "metadata": {},
     "output_type": "execute_result"
    }
   ],
   "source": [
    "a"
   ]
  },
  {
   "cell_type": "code",
   "execution_count": null,
   "id": "3cf311f130879daa",
   "metadata": {
    "ExecuteTime": {
     "end_time": "2024-01-04T17:39:47.092885Z",
     "start_time": "2024-01-04T17:39:47.051143Z"
    },
    "collapsed": false
   },
   "outputs": [
    {
     "data": {
      "text/plain": [
       "10.0"
      ]
     },
     "execution_count": 76,
     "metadata": {},
     "output_type": "execute_result"
    }
   ],
   "source": [
    "a/=b\n",
    "a"
   ]
  },
  {
   "cell_type": "code",
   "execution_count": null,
   "id": "555fc5ffee29c110",
   "metadata": {
    "ExecuteTime": {
     "end_time": "2024-01-04T17:39:53.747136Z",
     "start_time": "2024-01-04T17:39:53.714924Z"
    },
    "collapsed": false
   },
   "outputs": [],
   "source": [
    "a//=b"
   ]
  },
  {
   "cell_type": "code",
   "execution_count": null,
   "id": "d06c8f6fe076f360",
   "metadata": {
    "ExecuteTime": {
     "end_time": "2024-01-04T17:39:54.868734Z",
     "start_time": "2024-01-04T17:39:54.839293Z"
    },
    "collapsed": false
   },
   "outputs": [
    {
     "data": {
      "text/plain": [
       "0.0"
      ]
     },
     "execution_count": 78,
     "metadata": {},
     "output_type": "execute_result"
    }
   ],
   "source": [
    "a"
   ]
  },
  {
   "cell_type": "code",
   "execution_count": null,
   "id": "30d9aa6b87d61e1e",
   "metadata": {
    "ExecuteTime": {
     "end_time": "2024-01-04T17:40:03.403086Z",
     "start_time": "2024-01-04T17:40:03.380199Z"
    },
    "collapsed": false
   },
   "outputs": [],
   "source": [
    "a%=b"
   ]
  },
  {
   "cell_type": "code",
   "execution_count": null,
   "id": "6342bdab84a4c717",
   "metadata": {
    "ExecuteTime": {
     "end_time": "2024-01-04T17:40:04.464286Z",
     "start_time": "2024-01-04T17:40:04.438384Z"
    },
    "collapsed": false
   },
   "outputs": [
    {
     "data": {
      "text/plain": [
       "0.0"
      ]
     },
     "execution_count": 80,
     "metadata": {},
     "output_type": "execute_result"
    }
   ],
   "source": [
    "a"
   ]
  },
  {
   "cell_type": "code",
   "execution_count": null,
   "id": "731de001eec51dc3",
   "metadata": {
    "ExecuteTime": {
     "end_time": "2024-01-04T17:40:20.451116Z",
     "start_time": "2024-01-04T17:40:20.411263Z"
    },
    "collapsed": false
   },
   "outputs": [],
   "source": [
    "a=a%b  # a%=b"
   ]
  },
  {
   "cell_type": "raw",
   "id": "8ac3099ba85fb755",
   "metadata": {
    "collapsed": false
   },
   "source": [
    "Compariosn Operators"
   ]
  },
  {
   "cell_type": "code",
   "execution_count": null,
   "id": "f4658fe27ed79627",
   "metadata": {
    "ExecuteTime": {
     "end_time": "2024-01-04T17:41:03.317335Z",
     "start_time": "2024-01-04T17:41:03.291414Z"
    },
    "collapsed": false
   },
   "outputs": [],
   "source": [
    "a=10\n",
    "b=20"
   ]
  },
  {
   "cell_type": "code",
   "execution_count": null,
   "id": "9434ff46571a7aa",
   "metadata": {
    "ExecuteTime": {
     "end_time": "2024-01-04T17:41:06.414905Z",
     "start_time": "2024-01-04T17:41:06.369457Z"
    },
    "collapsed": false
   },
   "outputs": [
    {
     "data": {
      "text/plain": [
       "False"
      ]
     },
     "execution_count": 83,
     "metadata": {},
     "output_type": "execute_result"
    }
   ],
   "source": [
    "a==b"
   ]
  },
  {
   "cell_type": "code",
   "execution_count": null,
   "id": "e5f45f1c539a86dc",
   "metadata": {
    "ExecuteTime": {
     "end_time": "2024-01-04T17:41:10.951543Z",
     "start_time": "2024-01-04T17:41:10.913341Z"
    },
    "collapsed": false
   },
   "outputs": [
    {
     "data": {
      "text/plain": [
       "True"
      ]
     },
     "execution_count": 84,
     "metadata": {},
     "output_type": "execute_result"
    }
   ],
   "source": [
    "a!=b"
   ]
  },
  {
   "cell_type": "code",
   "execution_count": null,
   "id": "83e3eeb317d68d65",
   "metadata": {
    "ExecuteTime": {
     "end_time": "2024-01-04T17:41:13.623425Z",
     "start_time": "2024-01-04T17:41:13.592899Z"
    },
    "collapsed": false
   },
   "outputs": [
    {
     "data": {
      "text/plain": [
       "True"
      ]
     },
     "execution_count": 85,
     "metadata": {},
     "output_type": "execute_result"
    }
   ],
   "source": [
    "a<=b"
   ]
  },
  {
   "cell_type": "code",
   "execution_count": null,
   "id": "f42f2f4326c1567d",
   "metadata": {
    "ExecuteTime": {
     "end_time": "2024-01-04T17:41:17.114644Z",
     "start_time": "2024-01-04T17:41:17.071952Z"
    },
    "collapsed": false
   },
   "outputs": [
    {
     "data": {
      "text/plain": [
       "False"
      ]
     },
     "execution_count": 86,
     "metadata": {},
     "output_type": "execute_result"
    }
   ],
   "source": [
    "a>=b"
   ]
  },
  {
   "cell_type": "code",
   "execution_count": null,
   "id": "eb34693f336d6a16",
   "metadata": {
    "ExecuteTime": {
     "end_time": "2024-01-04T17:41:20.377681Z",
     "start_time": "2024-01-04T17:41:20.326995Z"
    },
    "collapsed": false
   },
   "outputs": [
    {
     "data": {
      "text/plain": [
       "True"
      ]
     },
     "execution_count": 87,
     "metadata": {},
     "output_type": "execute_result"
    }
   ],
   "source": [
    "a<b"
   ]
  },
  {
   "cell_type": "code",
   "execution_count": null,
   "id": "5db2d5d68b790808",
   "metadata": {
    "ExecuteTime": {
     "end_time": "2024-01-04T17:41:22.287206Z",
     "start_time": "2024-01-04T17:41:22.243484Z"
    },
    "collapsed": false
   },
   "outputs": [
    {
     "data": {
      "text/plain": [
       "False"
      ]
     },
     "execution_count": 88,
     "metadata": {},
     "output_type": "execute_result"
    }
   ],
   "source": [
    "a>b"
   ]
  },
  {
   "cell_type": "raw",
   "id": "2676a4af7bb13743",
   "metadata": {
    "collapsed": false
   },
   "source": [
    "Logical Operators"
   ]
  },
  {
   "cell_type": "code",
   "execution_count": null,
   "id": "745f1db0c73508a8",
   "metadata": {
    "ExecuteTime": {
     "end_time": "2024-01-04T17:42:28.981279Z",
     "start_time": "2024-01-04T17:42:28.944959Z"
    },
    "collapsed": false
   },
   "outputs": [],
   "source": [
    "# and or not"
   ]
  },
  {
   "cell_type": "code",
   "execution_count": null,
   "id": "b0e115fab62ea0b4",
   "metadata": {
    "ExecuteTime": {
     "end_time": "2024-01-04T17:45:16.613605Z",
     "start_time": "2024-01-04T17:45:16.579711Z"
    },
    "collapsed": false
   },
   "outputs": [],
   "source": [
    "a=20\n",
    "b=10"
   ]
  },
  {
   "cell_type": "code",
   "execution_count": null,
   "id": "253a2cfa7f80ef94",
   "metadata": {
    "ExecuteTime": {
     "end_time": "2024-01-04T17:45:17.311988Z",
     "start_time": "2024-01-04T17:45:17.292024Z"
    },
    "collapsed": false
   },
   "outputs": [
    {
     "name": "stdout",
     "output_type": "stream",
     "text": [
      "Nothing is going right\n"
     ]
    }
   ],
   "source": [
    "if(a<=10 and b<=20):\n",
    "    print(\"And operator correct\")\n",
    "elif(a<=10 or b>20):\n",
    "    print(\"Or operator correct\")\n",
    "else:\n",
    "    print(\"Nothing is going right\")"
   ]
  },
  {
   "cell_type": "code",
   "execution_count": null,
   "id": "a421c0722719e058",
   "metadata": {
    "ExecuteTime": {
     "end_time": "2024-01-04T17:45:45.589486Z",
     "start_time": "2024-01-04T17:45:45.552362Z"
    },
    "collapsed": false
   },
   "outputs": [
    {
     "name": "stdout",
     "output_type": "stream",
     "text": [
      "True\n"
     ]
    }
   ],
   "source": [
    "print(a is not b)"
   ]
  },
  {
   "cell_type": "markdown",
   "id": "77dee85420ce9146",
   "metadata": {
    "collapsed": false
   },
   "source": [
    "### Input"
   ]
  },
  {
   "cell_type": "code",
   "execution_count": 45,
   "id": "5d15aa1d09c3f992",
   "metadata": {
    "ExecuteTime": {
     "end_time": "2024-01-04T17:48:36.672750Z",
     "start_time": "2024-01-04T17:48:34.422735Z"
    },
    "collapsed": false
   },
   "outputs": [],
   "source": [
    "# String\n",
    "Number=input(\"Enter a number\")"
   ]
  },
  {
   "cell_type": "code",
   "execution_count": 46,
   "id": "8054b80171acb46",
   "metadata": {
    "ExecuteTime": {
     "end_time": "2024-01-04T17:48:39.855916Z",
     "start_time": "2024-01-04T17:48:39.849653Z"
    },
    "collapsed": false
   },
   "outputs": [
    {
     "data": {
      "text/plain": [
       "'57'"
      ]
     },
     "execution_count": 46,
     "metadata": {},
     "output_type": "execute_result"
    }
   ],
   "source": [
    "Number"
   ]
  },
  {
   "cell_type": "code",
   "execution_count": 47,
   "id": "a8fcace1b75cebc3",
   "metadata": {
    "ExecuteTime": {
     "end_time": "2024-01-04T17:48:47.568244Z",
     "start_time": "2024-01-04T17:48:47.528592Z"
    },
    "collapsed": false
   },
   "outputs": [
    {
     "data": {
      "text/plain": [
       "str"
      ]
     },
     "execution_count": 47,
     "metadata": {},
     "output_type": "execute_result"
    }
   ],
   "source": [
    "type(Number)"
   ]
  },
  {
   "cell_type": "code",
   "execution_count": 41,
   "id": "539682dbd27bbf29",
   "metadata": {
    "ExecuteTime": {
     "end_time": "2024-01-04T17:49:11.880911Z",
     "start_time": "2024-01-04T17:49:09.430518Z"
    },
    "collapsed": false
   },
   "outputs": [],
   "source": [
    "# INteger\n",
    "Time=int(input(\"Enter the amount of time \"))"
   ]
  },
  {
   "cell_type": "code",
   "execution_count": 48,
   "id": "ebe6e688a2f2e118",
   "metadata": {
    "ExecuteTime": {
     "end_time": "2024-01-04T17:49:15.423456Z",
     "start_time": "2024-01-04T17:49:15.392662Z"
    },
    "collapsed": false
   },
   "outputs": [
    {
     "data": {
      "text/plain": [
       "56"
      ]
     },
     "execution_count": 48,
     "metadata": {},
     "output_type": "execute_result"
    }
   ],
   "source": [
    "Time"
   ]
  },
  {
   "cell_type": "code",
   "execution_count": 43,
   "id": "cf2294bd0a3824c9",
   "metadata": {
    "ExecuteTime": {
     "end_time": "2024-01-04T17:49:18.993211Z",
     "start_time": "2024-01-04T17:49:18.956214Z"
    },
    "collapsed": false
   },
   "outputs": [
    {
     "data": {
      "text/plain": [
       "int"
      ]
     },
     "execution_count": 43,
     "metadata": {},
     "output_type": "execute_result"
    }
   ],
   "source": [
    "type(Time)"
   ]
  },
  {
   "cell_type": "code",
   "execution_count": 44,
   "id": "ae745f55c9fba6f6",
   "metadata": {
    "ExecuteTime": {
     "end_time": "2024-02-07T17:19:54.450318Z",
     "start_time": "2024-02-07T17:19:54.429465Z"
    },
    "collapsed": false
   },
   "outputs": [
    {
     "name": "stdout",
     "output_type": "stream",
     "text": [
      "even\n"
     ]
    }
   ],
   "source": [
    "a=18\n",
    "if(a%2==0 and a<20):\n",
    "    print(\"even\")\n",
    "elif(a%2==0 and a>20):\n",
    "    print(\"dont know but even\")\n",
    "else:\n",
    "    print(\"odd\")"
   ]
  }
 ],
 "metadata": {
  "kernelspec": {
   "display_name": "Python 3",
   "language": "python",
   "name": "python3"
  },
  "language_info": {
   "codemirror_mode": {
    "name": "ipython",
    "version": 3
   },
   "file_extension": ".py",
   "mimetype": "text/x-python",
   "name": "python",
   "nbconvert_exporter": "python",
   "pygments_lexer": "ipython3",
   "version": "3.12.3"
  }
 },
 "nbformat": 4,
 "nbformat_minor": 5
}
