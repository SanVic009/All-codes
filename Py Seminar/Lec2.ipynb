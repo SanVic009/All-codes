{
 "cells": [
  {
   "cell_type": "markdown",
   "id": "bdddbef58518c014",
   "metadata": {
    "collapsed": false
   },
   "source": [
    "# Lecture About List Tuple Sets Dictionary Loops "
   ]
  },
  {
   "cell_type": "markdown",
   "id": "feef7e9284be1dab",
   "metadata": {
    "collapsed": false
   },
   "source": [
    "### List"
   ]
  },
  {
   "cell_type": "raw",
   "id": "311e21b1e2358b7c",
   "metadata": {
    "collapsed": false
   },
   "source": [
    "a list is a versatile and commonly used data structure that stores an ordered collection of items"
   ]
  },
  {
   "cell_type": "code",
   "execution_count": null,
   "id": "215ee689af281e13",
   "metadata": {
    "collapsed": false
   },
   "outputs": [],
   "source": [
    "var=[1,2,3,\"kartik\",True]"
   ]
  },
  {
   "cell_type": "code",
   "execution_count": null,
   "id": "6cd98fe199f9ee91",
   "metadata": {
    "collapsed": false
   },
   "outputs": [],
   "source": [
    "var"
   ]
  },
  {
   "cell_type": "code",
   "execution_count": null,
   "id": "ec59237335589823",
   "metadata": {
    "collapsed": false
   },
   "outputs": [],
   "source": [
    "var.append(5)\n",
    "var"
   ]
  },
  {
   "cell_type": "code",
   "execution_count": null,
   "id": "787ee1b4e66b847e",
   "metadata": {
    "collapsed": false
   },
   "outputs": [],
   "source": [
    "var.pop()\n",
    "var"
   ]
  },
  {
   "cell_type": "code",
   "execution_count": null,
   "id": "a3dd223c4c13c31d",
   "metadata": {
    "collapsed": false
   },
   "outputs": [],
   "source": [
    "var.insert(1,2)\n",
    "var"
   ]
  },
  {
   "cell_type": "code",
   "execution_count": null,
   "id": "62948c1790b11584",
   "metadata": {
    "collapsed": false
   },
   "outputs": [],
   "source": [
    "var.remove('kartik')"
   ]
  },
  {
   "cell_type": "code",
   "execution_count": null,
   "id": "3c6c2364990f6800",
   "metadata": {
    "collapsed": false
   },
   "outputs": [],
   "source": [
    "\n",
    "var"
   ]
  },
  {
   "cell_type": "code",
   "execution_count": null,
   "id": "d0db3eb71ae5259",
   "metadata": {
    "collapsed": false
   },
   "outputs": [],
   "source": [
    "\n",
    "var.count(1)"
   ]
  },
  {
   "cell_type": "code",
   "execution_count": null,
   "id": "c817618966e40708",
   "metadata": {
    "collapsed": false
   },
   "outputs": [],
   "source": [
    "var.reverse()"
   ]
  },
  {
   "cell_type": "code",
   "execution_count": null,
   "id": "9812c79b3aa2bf4b",
   "metadata": {
    "collapsed": false
   },
   "outputs": [],
   "source": [
    "var"
   ]
  },
  {
   "cell_type": "code",
   "execution_count": null,
   "id": "b71ad7a1f7c7c596",
   "metadata": {
    "collapsed": false
   },
   "outputs": [],
   "source": [
    "var"
   ]
  },
  {
   "cell_type": "code",
   "execution_count": null,
   "id": "633bb9285de7310f",
   "metadata": {
    "collapsed": false
   },
   "outputs": [],
   "source": [
    "var.index(2)"
   ]
  },
  {
   "cell_type": "code",
   "execution_count": null,
   "id": "d9034c84321fef38",
   "metadata": {
    "collapsed": false
   },
   "outputs": [],
   "source": [
    "var.index(1)"
   ]
  },
  {
   "cell_type": "code",
   "execution_count": null,
   "id": "600ce787f79db3fa",
   "metadata": {
    "collapsed": false
   },
   "outputs": [],
   "source": [
    "var.extend(\"string\")"
   ]
  },
  {
   "cell_type": "code",
   "execution_count": null,
   "id": "e45df0f643292799",
   "metadata": {
    "collapsed": false
   },
   "outputs": [],
   "source": [
    "var"
   ]
  },
  {
   "cell_type": "code",
   "execution_count": null,
   "id": "172c1bb45602170",
   "metadata": {
    "collapsed": false
   },
   "outputs": [],
   "source": [
    "var.clear()"
   ]
  },
  {
   "cell_type": "code",
   "execution_count": null,
   "id": "8b31e8bd584e4e8b",
   "metadata": {
    "collapsed": false
   },
   "outputs": [],
   "source": [
    "var"
   ]
  },
  {
   "cell_type": "code",
   "execution_count": null,
   "id": "12404b2f3f1c224b",
   "metadata": {
    "ExecuteTime": {
     "end_time": "2024-02-08T10:36:57.052026Z",
     "start_time": "2024-02-08T10:36:57.045970Z"
    },
    "collapsed": false
   },
   "outputs": [],
   "source": [
    "my_list = [1, 2, 3, 'apple', 'banana', True]"
   ]
  },
  {
   "cell_type": "code",
   "execution_count": null,
   "id": "2d5861d9c7b0e0ff",
   "metadata": {
    "ExecuteTime": {
     "end_time": "2024-02-08T10:37:09.081025Z",
     "start_time": "2024-02-08T10:37:09.049224Z"
    },
    "collapsed": false
   },
   "outputs": [],
   "source": [
    "# Extract 1 2 3 from the list\n",
    "my_list[0:3]"
   ]
  },
  {
   "cell_type": "code",
   "execution_count": null,
   "id": "ec58f670f208b2ba",
   "metadata": {
    "collapsed": false
   },
   "outputs": [],
   "source": [
    "list1=[1,2,3,4,5,6,7]\n"
   ]
  },
  {
   "cell_type": "code",
   "execution_count": null,
   "id": "b3afd2bf9990eb61",
   "metadata": {
    "collapsed": false
   },
   "outputs": [],
   "source": [
    "# Extract apple to True in the list\n",
    "my_list[3:6]"
   ]
  },
  {
   "cell_type": "code",
   "execution_count": null,
   "id": "1b01f0d63c31a681",
   "metadata": {
    "collapsed": false
   },
   "outputs": [],
   "source": [
    "# Extract 3-true\n",
    "my_list[2:]"
   ]
  },
  {
   "cell_type": "code",
   "execution_count": null,
   "id": "70f85086a55a434c",
   "metadata": {
    "collapsed": false
   },
   "outputs": [],
   "source": [
    "#Extract only true\n",
    "my_list[-4:]"
   ]
  },
  {
   "cell_type": "code",
   "execution_count": null,
   "id": "6e57665c7eeee243",
   "metadata": {
    "collapsed": false
   },
   "outputs": [],
   "source": [
    "my_list[2:]"
   ]
  },
  {
   "cell_type": "code",
   "execution_count": null,
   "id": "46c3d7261acdedbf",
   "metadata": {
    "collapsed": false
   },
   "outputs": [],
   "source": [
    "# Extract all the elemnts of even index\n",
    "my_list[::2]\n"
   ]
  },
  {
   "cell_type": "code",
   "execution_count": null,
   "id": "c3fc437ba785da54",
   "metadata": {
    "collapsed": false
   },
   "outputs": [],
   "source": [
    "my_list[::-1]"
   ]
  },
  {
   "cell_type": "code",
   "execution_count": null,
   "id": "9920e7411f0ef8c5",
   "metadata": {
    "collapsed": false
   },
   "outputs": [],
   "source": [
    "# Length of list\n",
    "len(my_list)"
   ]
  },
  {
   "cell_type": "code",
   "execution_count": null,
   "id": "512c0b4cd93c0d4f",
   "metadata": {
    "collapsed": false
   },
   "outputs": [],
   "source": [
    "#Concatenation\n",
    "new_list = my_list + [4, 5, 'orange']\n",
    "print(new_list)\n"
   ]
  },
  {
   "cell_type": "code",
   "execution_count": null,
   "id": "dd58ed2a16c6d37b",
   "metadata": {
    "collapsed": false
   },
   "outputs": [],
   "source": [
    "new_list=my_list*2\n",
    "new_list"
   ]
  },
  {
   "cell_type": "code",
   "execution_count": null,
   "id": "7200433f5a8e69ff",
   "metadata": {
    "collapsed": false
   },
   "outputs": [],
   "source": [
    "# Mutablity \n",
    "my_list[0]=\"lok\""
   ]
  },
  {
   "cell_type": "code",
   "execution_count": null,
   "id": "187939b92ba008a4",
   "metadata": {
    "collapsed": false
   },
   "outputs": [],
   "source": [
    "my_list"
   ]
  },
  {
   "cell_type": "markdown",
   "id": "d26285e07dfe41f6",
   "metadata": {
    "collapsed": false
   },
   "source": [
    "### Dictionary"
   ]
  },
  {
   "cell_type": "code",
   "execution_count": null,
   "id": "2eca18f191894f05",
   "metadata": {
    "collapsed": false
   },
   "outputs": [],
   "source": [
    "my_dict = {'name': 'John', 'age': 25, 'city': 'New York'}\n"
   ]
  },
  {
   "cell_type": "code",
   "execution_count": null,
   "id": "20fe5568cb56cf0a",
   "metadata": {
    "collapsed": false
   },
   "outputs": [],
   "source": [
    "dict1={'name':'Kartik','name':'arun'}"
   ]
  },
  {
   "cell_type": "code",
   "execution_count": null,
   "id": "b97c308838e33023",
   "metadata": {
    "collapsed": false
   },
   "outputs": [],
   "source": [
    "dict1.get('name')"
   ]
  },
  {
   "cell_type": "code",
   "execution_count": null,
   "id": "e8154ec3",
   "metadata": {},
   "outputs": [],
   "source": [
    "my_dict.get('name')"
   ]
  },
  {
   "cell_type": "code",
   "execution_count": null,
   "id": "5e6cec3d3177183b",
   "metadata": {
    "collapsed": false
   },
   "outputs": [],
   "source": [
    "my_dict.keys()"
   ]
  },
  {
   "cell_type": "code",
   "execution_count": null,
   "id": "16cfdaca6ae4d579",
   "metadata": {
    "collapsed": false
   },
   "outputs": [],
   "source": [
    "my_dict.values()"
   ]
  },
  {
   "cell_type": "code",
   "execution_count": null,
   "id": "1d49565657d098bf",
   "metadata": {
    "collapsed": false
   },
   "outputs": [],
   "source": [
    "empty_dict = dict()\n",
    "another_dict = {'color': 'blue', 'size': 'medium'}\n",
    "\n"
   ]
  },
  {
   "cell_type": "code",
   "execution_count": null,
   "id": "9f584501a784dcc1",
   "metadata": {
    "collapsed": false
   },
   "outputs": [],
   "source": [
    "another_dict"
   ]
  },
  {
   "cell_type": "code",
   "execution_count": null,
   "id": "29c854c21db97439",
   "metadata": {
    "collapsed": false
   },
   "outputs": [],
   "source": [
    "print(my_dict['name'])    # Output: John\n",
    "print(my_dict.get('age'))  # Output: 25\n"
   ]
  },
  {
   "cell_type": "code",
   "execution_count": null,
   "id": "97d9f846c01e7044",
   "metadata": {
    "collapsed": false
   },
   "outputs": [],
   "source": [
    "my_dict['age'] = 26\n"
   ]
  },
  {
   "cell_type": "code",
   "execution_count": null,
   "id": "f0e8bb485d0415b8",
   "metadata": {
    "collapsed": false
   },
   "outputs": [],
   "source": [
    "my_dict.update({'gender': 'male', 'height': 180})\n",
    "popped_value = my_dict.pop('city')\n"
   ]
  },
  {
   "cell_type": "code",
   "execution_count": null,
   "id": "45e3132a379aad41",
   "metadata": {
    "collapsed": false
   },
   "outputs": [],
   "source": [
    "popped_value"
   ]
  },
  {
   "cell_type": "code",
   "execution_count": null,
   "id": "d8eea2ed352946a0",
   "metadata": {
    "collapsed": false
   },
   "outputs": [],
   "source": [
    "print(my_dict.get(26))\n"
   ]
  },
  {
   "cell_type": "code",
   "execution_count": null,
   "id": "ebf992ffe9fe4f5a",
   "metadata": {
    "collapsed": false
   },
   "outputs": [],
   "source": [
    "my_dict.items()"
   ]
  },
  {
   "cell_type": "code",
   "execution_count": null,
   "id": "57907fb359f91499",
   "metadata": {
    "collapsed": false
   },
   "outputs": [],
   "source": [
    "'city' in my_dict"
   ]
  },
  {
   "cell_type": "code",
   "execution_count": null,
   "id": "362bc9f14f4031ea",
   "metadata": {
    "collapsed": false
   },
   "outputs": [],
   "source": [
    "cube_dict={key: key**3 for key in range(0,20,3)} #for (key=0;key<21;key++)"
   ]
  },
  {
   "cell_type": "code",
   "execution_count": null,
   "id": "8638079c1a60bfba",
   "metadata": {
    "collapsed": false
   },
   "outputs": [],
   "source": [
    "cube_dict"
   ]
  },
  {
   "cell_type": "code",
   "execution_count": null,
   "id": "25e5d5e51ad1a9b5",
   "metadata": {
    "collapsed": false
   },
   "outputs": [],
   "source": [
    "nested_dict = {'person': {'name': 'Alice', 'age': 30}, 'location': {'city': 'Paris'}}\n"
   ]
  },
  {
   "cell_type": "code",
   "execution_count": null,
   "id": "9f1f54c73d636f73",
   "metadata": {
    "collapsed": false
   },
   "outputs": [],
   "source": [
    "nested_dict"
   ]
  },
  {
   "cell_type": "code",
   "execution_count": null,
   "id": "a7687f554e842d84",
   "metadata": {
    "collapsed": false
   },
   "outputs": [],
   "source": [
    "# Create a dictionary that takes your name, college name, city, age, gender"
   ]
  },
  {
   "cell_type": "markdown",
   "id": "a0409aa1937e5a24",
   "metadata": {
    "collapsed": false
   },
   "source": [
    "### Loops"
   ]
  },
  {
   "cell_type": "code",
   "execution_count": null,
   "id": "3f6a8b77b0fb916c",
   "metadata": {
    "ExecuteTime": {
     "end_time": "2024-02-08T11:10:48.505040Z",
     "start_time": "2024-02-08T11:10:48.494900Z"
    },
    "collapsed": false
   },
   "outputs": [],
   "source": [
    "for i in range(1,6):\n",
    "    print(i)"
   ]
  },
  {
   "cell_type": "code",
   "execution_count": null,
   "id": "5c435c9daa866cbe",
   "metadata": {
    "ExecuteTime": {
     "end_time": "2024-02-08T11:11:40.222445Z",
     "start_time": "2024-02-08T11:11:40.185825Z"
    },
    "collapsed": false
   },
   "outputs": [],
   "source": [
    "for i in range(0,10,2):\n",
    "    print(i)"
   ]
  },
  {
   "cell_type": "code",
   "execution_count": null,
   "id": "588da3a2c48454aa",
   "metadata": {
    "ExecuteTime": {
     "end_time": "2024-02-08T11:12:28.302728Z",
     "start_time": "2024-02-08T11:12:28.230475Z"
    },
    "collapsed": false
   },
   "outputs": [],
   "source": [
    "for i in range(1,100,2):\n",
    "    print(i)"
   ]
  },
  {
   "cell_type": "code",
   "execution_count": null,
   "id": "e97d46b614529df5",
   "metadata": {
    "collapsed": false
   },
   "outputs": [],
   "source": [
    "# Question 1: Write a code to print odd numbers in a range"
   ]
  },
  {
   "cell_type": "code",
   "execution_count": null,
   "id": "4f61ae57a68004b6",
   "metadata": {
    "ExecuteTime": {
     "end_time": "2024-02-08T11:15:21.215934Z",
     "start_time": "2024-02-08T11:15:21.161689Z"
    },
    "collapsed": false
   },
   "outputs": [],
   "source": [
    "fruits = [\"apple\", \"orange\", \"banana\"]\n",
    "for i in fruits:\n",
    "    print(i)\n"
   ]
  },
  {
   "cell_type": "code",
   "execution_count": null,
   "id": "93abd585a332489b",
   "metadata": {
    "ExecuteTime": {
     "end_time": "2024-02-08T11:16:18.467692Z",
     "start_time": "2024-02-08T11:16:18.436488Z"
    },
    "collapsed": false
   },
   "outputs": [],
   "source": [
    "# Nested for loops\n",
    "arr=[[1,2,3],[4,5,6],[7,8,9]]\n",
    "for i in range(3):\n",
    "    print(arr[i])\n",
    "   \n"
   ]
  },
  {
   "cell_type": "code",
   "execution_count": null,
   "id": "d459ed8c1678db48",
   "metadata": {
    "ExecuteTime": {
     "end_time": "2024-02-08T11:18:50.498912Z",
     "start_time": "2024-02-08T11:18:50.439985Z"
    },
    "collapsed": false
   },
   "outputs": [],
   "source": [
    "fruits = [\"apple\"]\n",
    "for index, value in enumerate(fruits):\n",
    "    print(f\"Index: {index}, Value: {value}\")\n"
   ]
  },
  {
   "cell_type": "code",
   "execution_count": null,
   "id": "57b72c1ec09ea508",
   "metadata": {
    "ExecuteTime": {
     "end_time": "2024-02-08T11:21:36.352513Z",
     "start_time": "2024-02-08T11:21:36.256261Z"
    },
    "collapsed": false
   },
   "outputs": [],
   "source": [
    "names=[\"kartik\",\"Yash\",\"Michelle\"]\n",
    "age=[20,21,2]\n",
    "for name,age in zip(names,age):\n",
    "    print(f\"{name}:{age}\") # f stands for f-strings\n",
    "#F-strings are a concise and convenient way to embed expressions inside string literals, allowing you to include variables and expressions directly in the string."
   ]
  },
  {
   "cell_type": "code",
   "execution_count": null,
   "id": "7b3bf463186e403c",
   "metadata": {
    "ExecuteTime": {
     "end_time": "2024-02-08T11:23:35.902254Z",
     "start_time": "2024-02-08T11:23:35.849255Z"
    },
    "collapsed": false
   },
   "outputs": [],
   "source": [
    "# List Comprehensions with for Loops\n",
    "square_list=[x**2 for x in range(1,11)]"
   ]
  },
  {
   "cell_type": "code",
   "execution_count": null,
   "id": "4cdf4d3fd2a1916c",
   "metadata": {
    "ExecuteTime": {
     "end_time": "2024-02-08T11:23:37.739427Z",
     "start_time": "2024-02-08T11:23:37.696509Z"
    },
    "collapsed": false
   },
   "outputs": [],
   "source": [
    "square_list"
   ]
  },
  {
   "cell_type": "code",
   "execution_count": null,
   "id": "d242aef83bdc41e7",
   "metadata": {
    "ExecuteTime": {
     "end_time": "2024-02-08T11:33:41.523179Z",
     "start_time": "2024-02-08T11:33:40.433107Z"
    },
    "collapsed": false
   },
   "outputs": [],
   "source": [
    "my_list1=[x for x in range(1,20)]\n",
    "cube_list=[x**3 for x in range(1,20)]\n",
    "for name,cube in zip(my_list1,cube_list):\n",
    "    print(f\"{name}:{cube}\")"
   ]
  },
  {
   "cell_type": "code",
   "execution_count": null,
   "id": "4fbefd7055a1bbe4",
   "metadata": {
    "collapsed": false
   },
   "outputs": [],
   "source": [
    "for i in range(10):\n",
    "    if(i%2==0):\n",
    "        continue\n",
    "    else:\n",
    "        print(i)"
   ]
  },
  {
   "cell_type": "code",
   "execution_count": null,
   "id": "1b2f63867c6bc2ff",
   "metadata": {
    "collapsed": false
   },
   "outputs": [],
   "source": [
    "for i in range(10):\n",
    "    if(i%2==0):\n",
    "        break\n",
    "    else:\n",
    "        print(i)"
   ]
  },
  {
   "cell_type": "code",
   "execution_count": null,
   "id": "c4979533784ae20a",
   "metadata": {
    "collapsed": false
   },
   "outputs": [],
   "source": [
    "for i in range(10):\n",
    "    if(i%2==0):\n",
    "        pass\n",
    "    else:\n",
    "        print(i)"
   ]
  },
  {
   "cell_type": "code",
   "execution_count": null,
   "id": "e34f9c887f27956c",
   "metadata": {
    "ExecuteTime": {
     "end_time": "2024-02-07T18:34:19.568318Z",
     "start_time": "2024-02-07T18:34:16.325444Z"
    },
    "collapsed": false
   },
   "outputs": [],
   "source": [
    "M=int(input())\n",
    "N=int(input())\n",
    "if(M<N):\n",
    "    print(M)\n",
    "else:\n",
    "    while(M>=N):\n",
    "        M-=N\n",
    "    print(M)"
   ]
  },
  {
   "cell_type": "code",
   "execution_count": null,
   "id": "2841d2630b8fd8b3",
   "metadata": {
    "ExecuteTime": {
     "start_time": "2024-02-07T18:30:07.608027Z"
    },
    "collapsed": false
   },
   "outputs": [],
   "source": []
  }
 ],
 "metadata": {
  "kernelspec": {
   "display_name": "Python 3",
   "language": "python",
   "name": "python3"
  },
  "language_info": {
   "codemirror_mode": {
    "name": "ipython",
    "version": 3
   },
   "file_extension": ".py",
   "mimetype": "text/x-python",
   "name": "python",
   "nbconvert_exporter": "python",
   "pygments_lexer": "ipython3",
   "version": "3.12.0"
  }
 },
 "nbformat": 4,
 "nbformat_minor": 5
}
