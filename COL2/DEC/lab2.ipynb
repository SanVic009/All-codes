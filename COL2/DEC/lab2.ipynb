{
 "cells": [
  {
   "cell_type": "code",
   "execution_count": 127,
   "metadata": {},
   "outputs": [],
   "source": [
    "import pandas as pd\n",
    "import numpy as np"
   ]
  },
  {
   "cell_type": "code",
   "execution_count": 128,
   "metadata": {},
   "outputs": [],
   "source": [
    "df_train = pd.read_csv('train.csv')"
   ]
  },
  {
   "cell_type": "code",
   "execution_count": 129,
   "metadata": {},
   "outputs": [],
   "source": [
    "df_test = pd.read_csv('test.csv')"
   ]
  },
  {
   "cell_type": "code",
   "execution_count": 130,
   "metadata": {},
   "outputs": [
    {
     "data": {
      "text/plain": [
       "(891, 12)"
      ]
     },
     "execution_count": 130,
     "metadata": {},
     "output_type": "execute_result"
    }
   ],
   "source": [
    "df_train.shape"
   ]
  },
  {
   "cell_type": "code",
   "execution_count": 131,
   "metadata": {},
   "outputs": [
    {
     "data": {
      "text/plain": [
       "(418, 11)"
      ]
     },
     "execution_count": 131,
     "metadata": {},
     "output_type": "execute_result"
    }
   ],
   "source": [
    "df_test.shape"
   ]
  },
  {
   "cell_type": "code",
   "execution_count": 132,
   "metadata": {},
   "outputs": [],
   "source": [
    "df = pd.read_csv('imdb2020.csv')"
   ]
  },
  {
   "cell_type": "code",
   "execution_count": 133,
   "metadata": {},
   "outputs": [
    {
     "name": "stdout",
     "output_type": "stream",
     "text": [
      "<class 'pandas.core.frame.DataFrame'>\n",
      "RangeIndex: 600 entries, 0 to 599\n",
      "Data columns (total 23 columns):\n",
      " #   Column                 Non-Null Count  Dtype  \n",
      "---  ------                 --------------  -----  \n",
      " 0   Title                  600 non-null    object \n",
      " 1   Movie Link             600 non-null    object \n",
      " 2   Year                   600 non-null    int64  \n",
      " 3   Duration               599 non-null    object \n",
      " 4   MPA                    467 non-null    object \n",
      " 5   Rating                 598 non-null    float64\n",
      " 6   Votes                  598 non-null    object \n",
      " 7   budget                 162 non-null    float64\n",
      " 8   grossWorldWide         404 non-null    float64\n",
      " 9   gross_US_Canada        269 non-null    float64\n",
      " 10  opening_weekend_Gross  244 non-null    float64\n",
      " 11  directors              600 non-null    object \n",
      " 12  writers                600 non-null    object \n",
      " 13  stars                  600 non-null    object \n",
      " 14  genres                 600 non-null    object \n",
      " 15  countries_origin       600 non-null    object \n",
      " 16  filming_locations      600 non-null    object \n",
      " 17  production_companies   600 non-null    object \n",
      " 18  Languages              600 non-null    object \n",
      " 19  wins                   600 non-null    int64  \n",
      " 20  nominations            600 non-null    int64  \n",
      " 21  oscars                 600 non-null    int64  \n",
      " 22  release_date           600 non-null    int64  \n",
      "dtypes: float64(5), int64(5), object(13)\n",
      "memory usage: 107.9+ KB\n"
     ]
    }
   ],
   "source": [
    "df.info()"
   ]
  },
  {
   "cell_type": "code",
   "execution_count": 134,
   "metadata": {},
   "outputs": [
    {
     "data": {
      "text/plain": [
       "array(['R', 'PG-13', 'PG', 'TV-MA', 'Not Rated', nan, 'Unrated', 'TV-PG',\n",
       "       'G', 'TV-14', 'TV-G', '18+', 'TV-Y7-FV', 'TV-Y7'], dtype=object)"
      ]
     },
     "execution_count": 134,
     "metadata": {},
     "output_type": "execute_result"
    }
   ],
   "source": [
    "df['MPA'].unique()"
   ]
  },
  {
   "cell_type": "code",
   "execution_count": 135,
   "metadata": {},
   "outputs": [
    {
     "data": {
      "text/plain": [
       "np.int64(133)"
      ]
     },
     "execution_count": 135,
     "metadata": {},
     "output_type": "execute_result"
    }
   ],
   "source": [
    "df['MPA'].isnull().sum()"
   ]
  },
  {
   "cell_type": "code",
   "execution_count": 136,
   "metadata": {},
   "outputs": [
    {
     "data": {
      "text/plain": [
       "Index(['Title', 'Movie Link', 'Year', 'Duration', 'MPA', 'Rating', 'Votes',\n",
       "       'budget', 'grossWorldWide', 'gross_US_Canada', 'opening_weekend_Gross',\n",
       "       'directors', 'writers', 'stars', 'genres', 'countries_origin',\n",
       "       'filming_locations', 'production_companies', 'Languages', 'wins',\n",
       "       'nominations', 'oscars', 'release_date'],\n",
       "      dtype='object')"
      ]
     },
     "execution_count": 136,
     "metadata": {},
     "output_type": "execute_result"
    }
   ],
   "source": [
    "df.columns"
   ]
  },
  {
   "cell_type": "code",
   "execution_count": 137,
   "metadata": {},
   "outputs": [
    {
     "data": {
      "text/plain": [
       "Title                      0\n",
       "Movie Link                 0\n",
       "Year                       0\n",
       "Duration                   1\n",
       "MPA                      133\n",
       "Rating                     2\n",
       "Votes                      2\n",
       "budget                   438\n",
       "grossWorldWide           196\n",
       "gross_US_Canada          331\n",
       "opening_weekend_Gross    356\n",
       "directors                  0\n",
       "writers                    0\n",
       "stars                      0\n",
       "genres                     0\n",
       "countries_origin           0\n",
       "filming_locations          0\n",
       "production_companies       0\n",
       "Languages                  0\n",
       "wins                       0\n",
       "nominations                0\n",
       "oscars                     0\n",
       "release_date               0\n",
       "dtype: int64"
      ]
     },
     "execution_count": 137,
     "metadata": {},
     "output_type": "execute_result"
    }
   ],
   "source": [
    "df.isnull().sum()"
   ]
  },
  {
   "cell_type": "code",
   "execution_count": 138,
   "metadata": {},
   "outputs": [
    {
     "data": {
      "text/plain": [
       "(600, 23)"
      ]
     },
     "execution_count": 138,
     "metadata": {},
     "output_type": "execute_result"
    }
   ],
   "source": [
    "df.shape"
   ]
  },
  {
   "cell_type": "code",
   "execution_count": 139,
   "metadata": {},
   "outputs": [],
   "source": [
    "cols = [ 'grossWorldWide', 'gross_US_Canada', 'opening_weekend_Gross']\n",
    "\n",
    "df = df.dropna(subset= cols, how='all')"
   ]
  },
  {
   "cell_type": "code",
   "execution_count": 140,
   "metadata": {},
   "outputs": [
    {
     "data": {
      "text/plain": [
       "(404, 23)"
      ]
     },
     "execution_count": 140,
     "metadata": {},
     "output_type": "execute_result"
    }
   ],
   "source": [
    "df.shape"
   ]
  },
  {
   "cell_type": "code",
   "execution_count": 142,
   "metadata": {},
   "outputs": [],
   "source": [
    "df.drop(df[['budget']], axis=1, inplace=True)"
   ]
  },
  {
   "cell_type": "code",
   "execution_count": 143,
   "metadata": {},
   "outputs": [
    {
     "data": {
      "text/plain": [
       "Index(['Title', 'Movie Link', 'Year', 'Duration', 'MPA', 'Rating', 'Votes',\n",
       "       'grossWorldWide', 'gross_US_Canada', 'opening_weekend_Gross',\n",
       "       'directors', 'writers', 'stars', 'genres', 'countries_origin',\n",
       "       'filming_locations', 'production_companies', 'Languages', 'wins',\n",
       "       'nominations', 'oscars', 'release_date'],\n",
       "      dtype='object')"
      ]
     },
     "execution_count": 143,
     "metadata": {},
     "output_type": "execute_result"
    }
   ],
   "source": [
    "df.columns"
   ]
  },
  {
   "cell_type": "code",
   "execution_count": 161,
   "metadata": {},
   "outputs": [
    {
     "data": {
      "text/plain": [
       "Title                    0\n",
       "Movie Link               0\n",
       "Year                     0\n",
       "Duration                 1\n",
       "MPA                      0\n",
       "Rating                   2\n",
       "Votes                    0\n",
       "grossWorldWide           0\n",
       "gross_US_Canada          0\n",
       "opening_weekend_Gross    0\n",
       "directors                0\n",
       "writers                  0\n",
       "stars                    0\n",
       "genres                   0\n",
       "countries_origin         0\n",
       "filming_locations        0\n",
       "production_companies     0\n",
       "Languages                0\n",
       "wins                     0\n",
       "nominations              0\n",
       "oscars                   0\n",
       "release_date             0\n",
       "dtype: int64"
      ]
     },
     "execution_count": 161,
     "metadata": {},
     "output_type": "execute_result"
    }
   ],
   "source": [
    "df.isnull().sum()"
   ]
  },
  {
   "cell_type": "code",
   "execution_count": 145,
   "metadata": {},
   "outputs": [
    {
     "data": {
      "text/html": [
       "<div>\n",
       "<style scoped>\n",
       "    .dataframe tbody tr th:only-of-type {\n",
       "        vertical-align: middle;\n",
       "    }\n",
       "\n",
       "    .dataframe tbody tr th {\n",
       "        vertical-align: top;\n",
       "    }\n",
       "\n",
       "    .dataframe thead th {\n",
       "        text-align: right;\n",
       "    }\n",
       "</style>\n",
       "<table border=\"1\" class=\"dataframe\">\n",
       "  <thead>\n",
       "    <tr style=\"text-align: right;\">\n",
       "      <th></th>\n",
       "      <th>Title</th>\n",
       "      <th>Movie Link</th>\n",
       "      <th>Year</th>\n",
       "      <th>Duration</th>\n",
       "      <th>MPA</th>\n",
       "      <th>Rating</th>\n",
       "      <th>Votes</th>\n",
       "      <th>grossWorldWide</th>\n",
       "      <th>gross_US_Canada</th>\n",
       "      <th>opening_weekend_Gross</th>\n",
       "      <th>...</th>\n",
       "      <th>stars</th>\n",
       "      <th>genres</th>\n",
       "      <th>countries_origin</th>\n",
       "      <th>filming_locations</th>\n",
       "      <th>production_companies</th>\n",
       "      <th>Languages</th>\n",
       "      <th>wins</th>\n",
       "      <th>nominations</th>\n",
       "      <th>oscars</th>\n",
       "      <th>release_date</th>\n",
       "    </tr>\n",
       "  </thead>\n",
       "  <tbody>\n",
       "    <tr>\n",
       "      <th>0</th>\n",
       "      <td>1. Bad Boys for Life</td>\n",
       "      <td>https://www.imdb.com/title/tt1502397/?ref_=sr_t_1</td>\n",
       "      <td>2020</td>\n",
       "      <td>2h 4m</td>\n",
       "      <td>R</td>\n",
       "      <td>6.5</td>\n",
       "      <td>187K</td>\n",
       "      <td>426505244.0</td>\n",
       "      <td>206305244.0</td>\n",
       "      <td>62504105.0</td>\n",
       "      <td>...</td>\n",
       "      <td>['Will Smith', 'Martin Lawrence', 'Vanessa Hud...</td>\n",
       "      <td>['Buddy Cop', 'Cop Drama', 'Action', 'Comedy',...</td>\n",
       "      <td>['United States']</td>\n",
       "      <td>['Yautepec, Morelos, Mexico']</td>\n",
       "      <td>['Columbia Pictures', '2.0 Entertainment', 'Do...</td>\n",
       "      <td>['English', 'Spanish']</td>\n",
       "      <td>0</td>\n",
       "      <td>15</td>\n",
       "      <td>0</td>\n",
       "      <td>2020</td>\n",
       "    </tr>\n",
       "    <tr>\n",
       "      <th>1</th>\n",
       "      <td>2. A Quiet Place Part II</td>\n",
       "      <td>https://www.imdb.com/title/tt8332922/?ref_=sr_t_2</td>\n",
       "      <td>2020</td>\n",
       "      <td>1h 37m</td>\n",
       "      <td>PG-13</td>\n",
       "      <td>7.2</td>\n",
       "      <td>296K</td>\n",
       "      <td>297372261.0</td>\n",
       "      <td>160072261.0</td>\n",
       "      <td>47547231.0</td>\n",
       "      <td>...</td>\n",
       "      <td>['Emily Blunt', 'Millicent Simmonds', 'Cillian...</td>\n",
       "      <td>['Alien Invasion', 'Monster Horror', 'Supernat...</td>\n",
       "      <td>['United States']</td>\n",
       "      <td>['Buffalo, New York, USA']</td>\n",
       "      <td>['Paramount Pictures', 'Platinum Dunes', 'Sund...</td>\n",
       "      <td>['English', 'American Sign Language']</td>\n",
       "      <td>0</td>\n",
       "      <td>44</td>\n",
       "      <td>1</td>\n",
       "      <td>2020</td>\n",
       "    </tr>\n",
       "    <tr>\n",
       "      <th>2</th>\n",
       "      <td>3. Sonic the Hedgehog</td>\n",
       "      <td>https://www.imdb.com/title/tt3794354/?ref_=sr_t_3</td>\n",
       "      <td>2020</td>\n",
       "      <td>1h 39m</td>\n",
       "      <td>PG</td>\n",
       "      <td>6.5</td>\n",
       "      <td>171K</td>\n",
       "      <td>319715683.0</td>\n",
       "      <td>148974665.0</td>\n",
       "      <td>58018348.0</td>\n",
       "      <td>...</td>\n",
       "      <td>['Ben Schwartz', 'James Marsden', 'Jim Carrey']</td>\n",
       "      <td>['Animal Adventure', 'Buddy Comedy', 'Road Tri...</td>\n",
       "      <td>['United States', 'Japan', 'Canada', 'United K...</td>\n",
       "      <td>['Ladysmith, British Columbia, Canada']</td>\n",
       "      <td>['Paramount Pictures', 'Sega Sammy Group', 'Or...</td>\n",
       "      <td>['English', 'French', 'Persian']</td>\n",
       "      <td>0</td>\n",
       "      <td>12</td>\n",
       "      <td>0</td>\n",
       "      <td>2020</td>\n",
       "    </tr>\n",
       "    <tr>\n",
       "      <th>3</th>\n",
       "      <td>4. Birds of Prey and the Fantabulous Emancipat...</td>\n",
       "      <td>https://www.imdb.com/title/tt7713068/?ref_=sr_t_4</td>\n",
       "      <td>2020</td>\n",
       "      <td>1h 49m</td>\n",
       "      <td>R</td>\n",
       "      <td>6.1</td>\n",
       "      <td>271K</td>\n",
       "      <td>205537933.0</td>\n",
       "      <td>84172791.0</td>\n",
       "      <td>33010017.0</td>\n",
       "      <td>...</td>\n",
       "      <td>['Margot Robbie', 'Rosie Perez', 'Mary Elizabe...</td>\n",
       "      <td>['Dark Comedy', 'Superhero', 'Action', 'Comedy...</td>\n",
       "      <td>['United States', 'United Kingdom']</td>\n",
       "      <td>['Los Angeles, California, USA']</td>\n",
       "      <td>['Clubhouse Pictures (II)', 'DC Entertainment'...</td>\n",
       "      <td>['English', 'Chinese']</td>\n",
       "      <td>0</td>\n",
       "      <td>83</td>\n",
       "      <td>0</td>\n",
       "      <td>2020</td>\n",
       "    </tr>\n",
       "    <tr>\n",
       "      <th>4</th>\n",
       "      <td>5. Dolittle</td>\n",
       "      <td>https://www.imdb.com/title/tt6673612/?ref_=sr_t_5</td>\n",
       "      <td>2020</td>\n",
       "      <td>1h 41m</td>\n",
       "      <td>PG</td>\n",
       "      <td>5.6</td>\n",
       "      <td>73K</td>\n",
       "      <td>251410631.0</td>\n",
       "      <td>77047065.0</td>\n",
       "      <td>21844045.0</td>\n",
       "      <td>...</td>\n",
       "      <td>['Robert Downey Jr.', 'Antonio Banderas', 'Mic...</td>\n",
       "      <td>['Animal Adventure', 'Quest', 'Adventure', 'Co...</td>\n",
       "      <td>['United States', 'China', 'United Kingdom', '...</td>\n",
       "      <td>['Menai Suspension Bridge, Anglesey, Wales, UK']</td>\n",
       "      <td>['Universal Pictures', 'Perfect World Pictures...</td>\n",
       "      <td>['English', 'French']</td>\n",
       "      <td>0</td>\n",
       "      <td>9</td>\n",
       "      <td>0</td>\n",
       "      <td>2020</td>\n",
       "    </tr>\n",
       "    <tr>\n",
       "      <th>...</th>\n",
       "      <td>...</td>\n",
       "      <td>...</td>\n",
       "      <td>...</td>\n",
       "      <td>...</td>\n",
       "      <td>...</td>\n",
       "      <td>...</td>\n",
       "      <td>...</td>\n",
       "      <td>...</td>\n",
       "      <td>...</td>\n",
       "      <td>...</td>\n",
       "      <td>...</td>\n",
       "      <td>...</td>\n",
       "      <td>...</td>\n",
       "      <td>...</td>\n",
       "      <td>...</td>\n",
       "      <td>...</td>\n",
       "      <td>...</td>\n",
       "      <td>...</td>\n",
       "      <td>...</td>\n",
       "      <td>...</td>\n",
       "      <td>...</td>\n",
       "    </tr>\n",
       "    <tr>\n",
       "      <th>587</th>\n",
       "      <td>588. Surge</td>\n",
       "      <td>https://www.imdb.com/title/tt9305634/?ref_=sr_...</td>\n",
       "      <td>2020</td>\n",
       "      <td>1h 45m</td>\n",
       "      <td>TV-MA</td>\n",
       "      <td>6.1</td>\n",
       "      <td>4K</td>\n",
       "      <td>34444.0</td>\n",
       "      <td>NaN</td>\n",
       "      <td>NaN</td>\n",
       "      <td>...</td>\n",
       "      <td>['Ben Whishaw', 'Ryan McKen', 'Victor Olamide']</td>\n",
       "      <td>['Thriller']</td>\n",
       "      <td>['United Kingdom']</td>\n",
       "      <td>['Tottenham Hale Rail Station, London, United ...</td>\n",
       "      <td>['BBC Film', 'British Film Institute (BFI)', '...</td>\n",
       "      <td>['English']</td>\n",
       "      <td>0</td>\n",
       "      <td>6</td>\n",
       "      <td>0</td>\n",
       "      <td>2020</td>\n",
       "    </tr>\n",
       "    <tr>\n",
       "      <th>591</th>\n",
       "      <td>592. Valley of the Dead</td>\n",
       "      <td>https://www.imdb.com/title/tt10127708/?ref_=sr...</td>\n",
       "      <td>2020</td>\n",
       "      <td>1h 41m</td>\n",
       "      <td>TV-MA</td>\n",
       "      <td>5.8</td>\n",
       "      <td>5.8K</td>\n",
       "      <td>1133841.0</td>\n",
       "      <td>NaN</td>\n",
       "      <td>NaN</td>\n",
       "      <td>...</td>\n",
       "      <td>['Miki Esparbé', 'Aura Garrido', 'Luis Callejo']</td>\n",
       "      <td>['Zombie Horror', 'Action', 'Comedy', 'Horror'...</td>\n",
       "      <td>['Spain']</td>\n",
       "      <td>['Cardona, Barcelona, Catalonia, Spain']</td>\n",
       "      <td>['Malnazidos, A.I.E.', 'Cactus Flower Producci...</td>\n",
       "      <td>['Spanish']</td>\n",
       "      <td>0</td>\n",
       "      <td>0</td>\n",
       "      <td>0</td>\n",
       "      <td>2020</td>\n",
       "    </tr>\n",
       "    <tr>\n",
       "      <th>592</th>\n",
       "      <td>593. Your Eyes Tell</td>\n",
       "      <td>https://www.imdb.com/title/tt11051974/?ref_=sr...</td>\n",
       "      <td>2020</td>\n",
       "      <td>2h 3m</td>\n",
       "      <td>NaN</td>\n",
       "      <td>7.3</td>\n",
       "      <td>2.1K</td>\n",
       "      <td>8020474.0</td>\n",
       "      <td>NaN</td>\n",
       "      <td>NaN</td>\n",
       "      <td>...</td>\n",
       "      <td>['Yuriko Yoshitaka', 'Ryûsei Yokohama', 'Kyôsu...</td>\n",
       "      <td>['Drama', 'Romance']</td>\n",
       "      <td>['Japan']</td>\n",
       "      <td>['Noge Miyakobashi shotengai building, 1 Noge-...</td>\n",
       "      <td>['Dragonfly Entertainment', 'Hachinoji']</td>\n",
       "      <td>['Japanese']</td>\n",
       "      <td>0</td>\n",
       "      <td>0</td>\n",
       "      <td>0</td>\n",
       "      <td>2020</td>\n",
       "    </tr>\n",
       "    <tr>\n",
       "      <th>593</th>\n",
       "      <td>594. Anjaam Pathiraa</td>\n",
       "      <td>https://www.imdb.com/title/tt10717738/?ref_=sr...</td>\n",
       "      <td>2020</td>\n",
       "      <td>2h 24m</td>\n",
       "      <td>Not Rated</td>\n",
       "      <td>7.9</td>\n",
       "      <td>9.7K</td>\n",
       "      <td>1106211.0</td>\n",
       "      <td>NaN</td>\n",
       "      <td>NaN</td>\n",
       "      <td>...</td>\n",
       "      <td>['Kunchacko Boban', 'Jinu Joseph', 'Unnimaya P...</td>\n",
       "      <td>['Crime', 'Mystery', 'Thriller']</td>\n",
       "      <td>['India']</td>\n",
       "      <td>[]</td>\n",
       "      <td>['Ashiq Usman Productions', 'Manual Movie Make...</td>\n",
       "      <td>['Malayalam']</td>\n",
       "      <td>0</td>\n",
       "      <td>9</td>\n",
       "      <td>0</td>\n",
       "      <td>2020</td>\n",
       "    </tr>\n",
       "    <tr>\n",
       "      <th>596</th>\n",
       "      <td>597. Se upp för Jönssonligan</td>\n",
       "      <td>https://www.imdb.com/title/tt8880922/?ref_=sr_...</td>\n",
       "      <td>2020</td>\n",
       "      <td>1h 56m</td>\n",
       "      <td>Not Rated</td>\n",
       "      <td>4.0</td>\n",
       "      <td>4.1K</td>\n",
       "      <td>7914.0</td>\n",
       "      <td>NaN</td>\n",
       "      <td>NaN</td>\n",
       "      <td>...</td>\n",
       "      <td>['Henrik Dorsin', 'Hedda Stiernstedt', 'David ...</td>\n",
       "      <td>['Comedy', 'Crime']</td>\n",
       "      <td>['Sweden']</td>\n",
       "      <td>['Stockholm, Stockholms län, Sweden']</td>\n",
       "      <td>['FLX']</td>\n",
       "      <td>['Swedish', 'Finnish', 'English']</td>\n",
       "      <td>0</td>\n",
       "      <td>5</td>\n",
       "      <td>0</td>\n",
       "      <td>2020</td>\n",
       "    </tr>\n",
       "  </tbody>\n",
       "</table>\n",
       "<p>404 rows × 22 columns</p>\n",
       "</div>"
      ],
      "text/plain": [
       "                                                 Title  \\\n",
       "0                                 1. Bad Boys for Life   \n",
       "1                             2. A Quiet Place Part II   \n",
       "2                                3. Sonic the Hedgehog   \n",
       "3    4. Birds of Prey and the Fantabulous Emancipat...   \n",
       "4                                          5. Dolittle   \n",
       "..                                                 ...   \n",
       "587                                         588. Surge   \n",
       "591                            592. Valley of the Dead   \n",
       "592                                593. Your Eyes Tell   \n",
       "593                               594. Anjaam Pathiraa   \n",
       "596                       597. Se upp för Jönssonligan   \n",
       "\n",
       "                                            Movie Link  Year Duration  \\\n",
       "0    https://www.imdb.com/title/tt1502397/?ref_=sr_t_1  2020    2h 4m   \n",
       "1    https://www.imdb.com/title/tt8332922/?ref_=sr_t_2  2020   1h 37m   \n",
       "2    https://www.imdb.com/title/tt3794354/?ref_=sr_t_3  2020   1h 39m   \n",
       "3    https://www.imdb.com/title/tt7713068/?ref_=sr_t_4  2020   1h 49m   \n",
       "4    https://www.imdb.com/title/tt6673612/?ref_=sr_t_5  2020   1h 41m   \n",
       "..                                                 ...   ...      ...   \n",
       "587  https://www.imdb.com/title/tt9305634/?ref_=sr_...  2020   1h 45m   \n",
       "591  https://www.imdb.com/title/tt10127708/?ref_=sr...  2020   1h 41m   \n",
       "592  https://www.imdb.com/title/tt11051974/?ref_=sr...  2020    2h 3m   \n",
       "593  https://www.imdb.com/title/tt10717738/?ref_=sr...  2020   2h 24m   \n",
       "596  https://www.imdb.com/title/tt8880922/?ref_=sr_...  2020   1h 56m   \n",
       "\n",
       "           MPA  Rating Votes  grossWorldWide  gross_US_Canada  \\\n",
       "0            R     6.5  187K     426505244.0      206305244.0   \n",
       "1        PG-13     7.2  296K     297372261.0      160072261.0   \n",
       "2           PG     6.5  171K     319715683.0      148974665.0   \n",
       "3            R     6.1  271K     205537933.0       84172791.0   \n",
       "4           PG     5.6   73K     251410631.0       77047065.0   \n",
       "..         ...     ...   ...             ...              ...   \n",
       "587      TV-MA     6.1    4K         34444.0              NaN   \n",
       "591      TV-MA     5.8  5.8K       1133841.0              NaN   \n",
       "592        NaN     7.3  2.1K       8020474.0              NaN   \n",
       "593  Not Rated     7.9  9.7K       1106211.0              NaN   \n",
       "596  Not Rated     4.0  4.1K          7914.0              NaN   \n",
       "\n",
       "     opening_weekend_Gross  ...  \\\n",
       "0               62504105.0  ...   \n",
       "1               47547231.0  ...   \n",
       "2               58018348.0  ...   \n",
       "3               33010017.0  ...   \n",
       "4               21844045.0  ...   \n",
       "..                     ...  ...   \n",
       "587                    NaN  ...   \n",
       "591                    NaN  ...   \n",
       "592                    NaN  ...   \n",
       "593                    NaN  ...   \n",
       "596                    NaN  ...   \n",
       "\n",
       "                                                 stars  \\\n",
       "0    ['Will Smith', 'Martin Lawrence', 'Vanessa Hud...   \n",
       "1    ['Emily Blunt', 'Millicent Simmonds', 'Cillian...   \n",
       "2      ['Ben Schwartz', 'James Marsden', 'Jim Carrey']   \n",
       "3    ['Margot Robbie', 'Rosie Perez', 'Mary Elizabe...   \n",
       "4    ['Robert Downey Jr.', 'Antonio Banderas', 'Mic...   \n",
       "..                                                 ...   \n",
       "587    ['Ben Whishaw', 'Ryan McKen', 'Victor Olamide']   \n",
       "591   ['Miki Esparbé', 'Aura Garrido', 'Luis Callejo']   \n",
       "592  ['Yuriko Yoshitaka', 'Ryûsei Yokohama', 'Kyôsu...   \n",
       "593  ['Kunchacko Boban', 'Jinu Joseph', 'Unnimaya P...   \n",
       "596  ['Henrik Dorsin', 'Hedda Stiernstedt', 'David ...   \n",
       "\n",
       "                                                genres  \\\n",
       "0    ['Buddy Cop', 'Cop Drama', 'Action', 'Comedy',...   \n",
       "1    ['Alien Invasion', 'Monster Horror', 'Supernat...   \n",
       "2    ['Animal Adventure', 'Buddy Comedy', 'Road Tri...   \n",
       "3    ['Dark Comedy', 'Superhero', 'Action', 'Comedy...   \n",
       "4    ['Animal Adventure', 'Quest', 'Adventure', 'Co...   \n",
       "..                                                 ...   \n",
       "587                                       ['Thriller']   \n",
       "591  ['Zombie Horror', 'Action', 'Comedy', 'Horror'...   \n",
       "592                               ['Drama', 'Romance']   \n",
       "593                   ['Crime', 'Mystery', 'Thriller']   \n",
       "596                                ['Comedy', 'Crime']   \n",
       "\n",
       "                                      countries_origin  \\\n",
       "0                                    ['United States']   \n",
       "1                                    ['United States']   \n",
       "2    ['United States', 'Japan', 'Canada', 'United K...   \n",
       "3                  ['United States', 'United Kingdom']   \n",
       "4    ['United States', 'China', 'United Kingdom', '...   \n",
       "..                                                 ...   \n",
       "587                                 ['United Kingdom']   \n",
       "591                                          ['Spain']   \n",
       "592                                          ['Japan']   \n",
       "593                                          ['India']   \n",
       "596                                         ['Sweden']   \n",
       "\n",
       "                                     filming_locations  \\\n",
       "0                        ['Yautepec, Morelos, Mexico']   \n",
       "1                           ['Buffalo, New York, USA']   \n",
       "2              ['Ladysmith, British Columbia, Canada']   \n",
       "3                     ['Los Angeles, California, USA']   \n",
       "4     ['Menai Suspension Bridge, Anglesey, Wales, UK']   \n",
       "..                                                 ...   \n",
       "587  ['Tottenham Hale Rail Station, London, United ...   \n",
       "591           ['Cardona, Barcelona, Catalonia, Spain']   \n",
       "592  ['Noge Miyakobashi shotengai building, 1 Noge-...   \n",
       "593                                                 []   \n",
       "596              ['Stockholm, Stockholms län, Sweden']   \n",
       "\n",
       "                                  production_companies  \\\n",
       "0    ['Columbia Pictures', '2.0 Entertainment', 'Do...   \n",
       "1    ['Paramount Pictures', 'Platinum Dunes', 'Sund...   \n",
       "2    ['Paramount Pictures', 'Sega Sammy Group', 'Or...   \n",
       "3    ['Clubhouse Pictures (II)', 'DC Entertainment'...   \n",
       "4    ['Universal Pictures', 'Perfect World Pictures...   \n",
       "..                                                 ...   \n",
       "587  ['BBC Film', 'British Film Institute (BFI)', '...   \n",
       "591  ['Malnazidos, A.I.E.', 'Cactus Flower Producci...   \n",
       "592           ['Dragonfly Entertainment', 'Hachinoji']   \n",
       "593  ['Ashiq Usman Productions', 'Manual Movie Make...   \n",
       "596                                            ['FLX']   \n",
       "\n",
       "                                 Languages wins nominations  oscars  \\\n",
       "0                   ['English', 'Spanish']    0          15       0   \n",
       "1    ['English', 'American Sign Language']    0          44       1   \n",
       "2         ['English', 'French', 'Persian']    0          12       0   \n",
       "3                   ['English', 'Chinese']    0          83       0   \n",
       "4                    ['English', 'French']    0           9       0   \n",
       "..                                     ...  ...         ...     ...   \n",
       "587                            ['English']    0           6       0   \n",
       "591                            ['Spanish']    0           0       0   \n",
       "592                           ['Japanese']    0           0       0   \n",
       "593                          ['Malayalam']    0           9       0   \n",
       "596      ['Swedish', 'Finnish', 'English']    0           5       0   \n",
       "\n",
       "     release_date  \n",
       "0            2020  \n",
       "1            2020  \n",
       "2            2020  \n",
       "3            2020  \n",
       "4            2020  \n",
       "..            ...  \n",
       "587          2020  \n",
       "591          2020  \n",
       "592          2020  \n",
       "593          2020  \n",
       "596          2020  \n",
       "\n",
       "[404 rows x 22 columns]"
      ]
     },
     "execution_count": 145,
     "metadata": {},
     "output_type": "execute_result"
    }
   ],
   "source": [
    "df.drop_duplicates()"
   ]
  },
  {
   "cell_type": "code",
   "execution_count": 146,
   "metadata": {},
   "outputs": [
    {
     "data": {
      "text/plain": [
       "(404, 22)"
      ]
     },
     "execution_count": 146,
     "metadata": {},
     "output_type": "execute_result"
    }
   ],
   "source": [
    "df.shape"
   ]
  },
  {
   "cell_type": "code",
   "execution_count": 147,
   "metadata": {},
   "outputs": [],
   "source": [
    "df['MPA'] = df['MPA'].replace({\n",
    "      None: 'Unrated',\n",
    "     'Not Rated': 'Unrated'\n",
    "})"
   ]
  },
  {
   "cell_type": "code",
   "execution_count": 148,
   "metadata": {},
   "outputs": [
    {
     "data": {
      "text/plain": [
       "array(['R', 'PG-13', 'PG', 'TV-MA', 'Unrated', 'TV-PG', 'G', 'TV-14',\n",
       "       'TV-G', '18+', 'TV-Y7'], dtype=object)"
      ]
     },
     "execution_count": 148,
     "metadata": {},
     "output_type": "execute_result"
    }
   ],
   "source": [
    "df['MPA'].unique()"
   ]
  },
  {
   "cell_type": "code",
   "execution_count": 159,
   "metadata": {},
   "outputs": [],
   "source": [
    "df[cols] = df[cols].fillna(df[cols].mean())"
   ]
  },
  {
   "cell_type": "code",
   "execution_count": null,
   "metadata": {},
   "outputs": [],
   "source": []
  },
  {
   "cell_type": "code",
   "execution_count": 151,
   "metadata": {},
   "outputs": [],
   "source": [
    "cols = ['Votes', 'grossWorldWide', 'gross_US_Canada', 'opening_weekend_Gross']"
   ]
  },
  {
   "cell_type": "code",
   "execution_count": 152,
   "metadata": {},
   "outputs": [
    {
     "data": {
      "text/plain": [
       "(404, 22)"
      ]
     },
     "execution_count": 152,
     "metadata": {},
     "output_type": "execute_result"
    }
   ],
   "source": [
    "df.shape"
   ]
  },
  {
   "cell_type": "code",
   "execution_count": 153,
   "metadata": {},
   "outputs": [],
   "source": [
    "df.to_csv('output.csv')"
   ]
  },
  {
   "cell_type": "code",
   "execution_count": 154,
   "metadata": {},
   "outputs": [],
   "source": [
    "df['Votes'] = df['Votes'].str.split('K', expand=True)[0]"
   ]
  },
  {
   "cell_type": "code",
   "execution_count": 157,
   "metadata": {},
   "outputs": [],
   "source": [
    "df['Votes'] = df['Votes'].astype(float)"
   ]
  },
  {
   "cell_type": "code",
   "execution_count": 158,
   "metadata": {},
   "outputs": [
    {
     "data": {
      "text/plain": [
       "0      187.0\n",
       "1      296.0\n",
       "2      171.0\n",
       "3      271.0\n",
       "4       73.0\n",
       "       ...  \n",
       "587      4.0\n",
       "591      5.8\n",
       "592      2.1\n",
       "593      9.7\n",
       "596      4.1\n",
       "Name: Votes, Length: 404, dtype: float64"
      ]
     },
     "execution_count": 158,
     "metadata": {},
     "output_type": "execute_result"
    }
   ],
   "source": [
    "df['Votes']"
   ]
  }
 ],
 "metadata": {
  "kernelspec": {
   "display_name": "Python 3",
   "language": "python",
   "name": "python3"
  },
  "language_info": {
   "codemirror_mode": {
    "name": "ipython",
    "version": 3
   },
   "file_extension": ".py",
   "mimetype": "text/x-python",
   "name": "python",
   "nbconvert_exporter": "python",
   "pygments_lexer": "ipython3",
   "version": "3.13.1"
  }
 },
 "nbformat": 4,
 "nbformat_minor": 2
}
